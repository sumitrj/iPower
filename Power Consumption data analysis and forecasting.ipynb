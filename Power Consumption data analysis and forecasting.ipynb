{
 "cells": [
  {
   "cell_type": "markdown",
   "metadata": {},
   "source": [
    "# Import Dependencies"
   ]
  },
  {
   "cell_type": "code",
   "execution_count": 1,
   "metadata": {},
   "outputs": [],
   "source": [
    "# For plotting\n",
    "import matplotlib.pyplot as plt\n",
    "\n",
    "#Handling arrays\n",
    "import numpy as np\n",
    "\n",
    "#Handling Dataframes\n",
    "import pandas as pd\n",
    "\n",
    "#Splitting the data\n",
    "from sklearn.model_selection import train_test_split\n",
    "\n",
    "#Machine Learning Models \n",
    "from sklearn.tree import DecisionTreeRegressor\n",
    "\n",
    "#Perofromance Metrics\n",
    "from sklearn.metrics import accuracy_score\n",
    "from sklearn.metrics import r2_score\n",
    "from sklearn.metrics import mean_squared_error\n",
    "\n",
    "#Handling Tensors\n",
    "import torch\n",
    "\n",
    "#Handling Neural Networks\n",
    "import torch.nn as nn"
   ]
  },
  {
   "cell_type": "markdown",
   "metadata": {},
   "source": [
    "## Loading and viewing data"
   ]
  },
  {
   "cell_type": "code",
   "execution_count": 2,
   "metadata": {},
   "outputs": [
    {
     "name": "stderr",
     "output_type": "stream",
     "text": [
      "C:\\Users\\Sumit\\Anaconda3\\lib\\site-packages\\IPython\\core\\interactiveshell.py:2785: DtypeWarning: Columns (2,3,4,5,6,7) have mixed types. Specify dtype option on import or set low_memory=False.\n",
      "  interactivity=interactivity, compiler=compiler, result=result)\n"
     ]
    }
   ],
   "source": [
    "df = pd.read_csv('household_power_consumption.txt', sep = ';')"
   ]
  },
  {
   "cell_type": "code",
   "execution_count": 3,
   "metadata": {},
   "outputs": [
    {
     "data": {
      "text/html": [
       "<div>\n",
       "<style scoped>\n",
       "    .dataframe tbody tr th:only-of-type {\n",
       "        vertical-align: middle;\n",
       "    }\n",
       "\n",
       "    .dataframe tbody tr th {\n",
       "        vertical-align: top;\n",
       "    }\n",
       "\n",
       "    .dataframe thead th {\n",
       "        text-align: right;\n",
       "    }\n",
       "</style>\n",
       "<table border=\"1\" class=\"dataframe\">\n",
       "  <thead>\n",
       "    <tr style=\"text-align: right;\">\n",
       "      <th></th>\n",
       "      <th>Date</th>\n",
       "      <th>Time</th>\n",
       "      <th>Global_active_power</th>\n",
       "      <th>Global_reactive_power</th>\n",
       "      <th>Voltage</th>\n",
       "      <th>Global_intensity</th>\n",
       "      <th>Sub_metering_1</th>\n",
       "      <th>Sub_metering_2</th>\n",
       "      <th>Sub_metering_3</th>\n",
       "    </tr>\n",
       "  </thead>\n",
       "  <tbody>\n",
       "    <tr>\n",
       "      <th>0</th>\n",
       "      <td>16/12/2006</td>\n",
       "      <td>17:24:00</td>\n",
       "      <td>4.216</td>\n",
       "      <td>0.418</td>\n",
       "      <td>234.840</td>\n",
       "      <td>18.400</td>\n",
       "      <td>0.000</td>\n",
       "      <td>1.000</td>\n",
       "      <td>17.0</td>\n",
       "    </tr>\n",
       "    <tr>\n",
       "      <th>1</th>\n",
       "      <td>16/12/2006</td>\n",
       "      <td>17:25:00</td>\n",
       "      <td>5.360</td>\n",
       "      <td>0.436</td>\n",
       "      <td>233.630</td>\n",
       "      <td>23.000</td>\n",
       "      <td>0.000</td>\n",
       "      <td>1.000</td>\n",
       "      <td>16.0</td>\n",
       "    </tr>\n",
       "    <tr>\n",
       "      <th>2</th>\n",
       "      <td>16/12/2006</td>\n",
       "      <td>17:26:00</td>\n",
       "      <td>5.374</td>\n",
       "      <td>0.498</td>\n",
       "      <td>233.290</td>\n",
       "      <td>23.000</td>\n",
       "      <td>0.000</td>\n",
       "      <td>2.000</td>\n",
       "      <td>17.0</td>\n",
       "    </tr>\n",
       "    <tr>\n",
       "      <th>3</th>\n",
       "      <td>16/12/2006</td>\n",
       "      <td>17:27:00</td>\n",
       "      <td>5.388</td>\n",
       "      <td>0.502</td>\n",
       "      <td>233.740</td>\n",
       "      <td>23.000</td>\n",
       "      <td>0.000</td>\n",
       "      <td>1.000</td>\n",
       "      <td>17.0</td>\n",
       "    </tr>\n",
       "    <tr>\n",
       "      <th>4</th>\n",
       "      <td>16/12/2006</td>\n",
       "      <td>17:28:00</td>\n",
       "      <td>3.666</td>\n",
       "      <td>0.528</td>\n",
       "      <td>235.680</td>\n",
       "      <td>15.800</td>\n",
       "      <td>0.000</td>\n",
       "      <td>1.000</td>\n",
       "      <td>17.0</td>\n",
       "    </tr>\n",
       "  </tbody>\n",
       "</table>\n",
       "</div>"
      ],
      "text/plain": [
       "         Date      Time Global_active_power Global_reactive_power  Voltage  \\\n",
       "0  16/12/2006  17:24:00               4.216                 0.418  234.840   \n",
       "1  16/12/2006  17:25:00               5.360                 0.436  233.630   \n",
       "2  16/12/2006  17:26:00               5.374                 0.498  233.290   \n",
       "3  16/12/2006  17:27:00               5.388                 0.502  233.740   \n",
       "4  16/12/2006  17:28:00               3.666                 0.528  235.680   \n",
       "\n",
       "  Global_intensity Sub_metering_1 Sub_metering_2  Sub_metering_3  \n",
       "0           18.400          0.000          1.000            17.0  \n",
       "1           23.000          0.000          1.000            16.0  \n",
       "2           23.000          0.000          2.000            17.0  \n",
       "3           23.000          0.000          1.000            17.0  \n",
       "4           15.800          0.000          1.000            17.0  "
      ]
     },
     "execution_count": 3,
     "metadata": {},
     "output_type": "execute_result"
    }
   ],
   "source": [
    "df.head()"
   ]
  },
  {
   "cell_type": "markdown",
   "metadata": {},
   "source": [
    "## Cleaning Data"
   ]
  },
  {
   "cell_type": "markdown",
   "metadata": {},
   "source": [
    "### Search for non-float entries and delete"
   ]
  },
  {
   "cell_type": "code",
   "execution_count": 4,
   "metadata": {},
   "outputs": [
    {
     "data": {
      "text/plain": [
       "<bound method DataFrame.dropna of                Date      Time Global_active_power Global_reactive_power  \\\n",
       "0        16/12/2006  17:24:00               4.216                 0.418   \n",
       "1        16/12/2006  17:25:00               5.360                 0.436   \n",
       "2        16/12/2006  17:26:00               5.374                 0.498   \n",
       "3        16/12/2006  17:27:00               5.388                 0.502   \n",
       "4        16/12/2006  17:28:00               3.666                 0.528   \n",
       "5        16/12/2006  17:29:00               3.520                 0.522   \n",
       "6        16/12/2006  17:30:00               3.702                 0.520   \n",
       "7        16/12/2006  17:31:00               3.700                 0.520   \n",
       "8        16/12/2006  17:32:00               3.668                 0.510   \n",
       "9        16/12/2006  17:33:00               3.662                 0.510   \n",
       "10       16/12/2006  17:34:00               4.448                 0.498   \n",
       "11       16/12/2006  17:35:00               5.412                 0.470   \n",
       "12       16/12/2006  17:36:00               5.224                 0.478   \n",
       "13       16/12/2006  17:37:00               5.268                 0.398   \n",
       "14       16/12/2006  17:38:00               4.054                 0.422   \n",
       "15       16/12/2006  17:39:00               3.384                 0.282   \n",
       "16       16/12/2006  17:40:00               3.270                 0.152   \n",
       "17       16/12/2006  17:41:00               3.430                 0.156   \n",
       "18       16/12/2006  17:42:00               3.266                 0.000   \n",
       "19       16/12/2006  17:43:00               3.728                 0.000   \n",
       "20       16/12/2006  17:44:00               5.894                 0.000   \n",
       "21       16/12/2006  17:45:00               7.706                 0.000   \n",
       "22       16/12/2006  17:46:00               7.026                 0.000   \n",
       "23       16/12/2006  17:47:00               5.174                 0.000   \n",
       "24       16/12/2006  17:48:00               4.474                 0.000   \n",
       "25       16/12/2006  17:49:00               3.248                 0.000   \n",
       "26       16/12/2006  17:50:00               3.236                 0.000   \n",
       "27       16/12/2006  17:51:00               3.228                 0.000   \n",
       "28       16/12/2006  17:52:00               3.258                 0.000   \n",
       "29       16/12/2006  17:53:00               3.178                 0.000   \n",
       "...             ...       ...                 ...                   ...   \n",
       "2075229  26/11/2010  20:33:00               0.978                     0   \n",
       "2075230  26/11/2010  20:34:00               0.968                     0   \n",
       "2075231  26/11/2010  20:35:00                0.96                     0   \n",
       "2075232  26/11/2010  20:36:00               0.964                     0   \n",
       "2075233  26/11/2010  20:37:00                0.98                     0   \n",
       "2075234  26/11/2010  20:38:00               0.976                 0.096   \n",
       "2075235  26/11/2010  20:39:00               0.984                   0.1   \n",
       "2075236  26/11/2010  20:40:00               0.986                 0.102   \n",
       "2075237  26/11/2010  20:41:00                0.99                 0.106   \n",
       "2075238  26/11/2010  20:42:00               0.988                 0.106   \n",
       "2075239  26/11/2010  20:43:00               0.988                 0.106   \n",
       "2075240  26/11/2010  20:44:00               0.982                 0.102   \n",
       "2075241  26/11/2010  20:45:00               0.972                 0.092   \n",
       "2075242  26/11/2010  20:46:00               0.908                     0   \n",
       "2075243  26/11/2010  20:47:00                0.91                     0   \n",
       "2075244  26/11/2010  20:48:00               0.912                     0   \n",
       "2075245  26/11/2010  20:49:00               0.948                     0   \n",
       "2075246  26/11/2010  20:50:00               1.198                 0.128   \n",
       "2075247  26/11/2010  20:51:00               1.024                 0.106   \n",
       "2075248  26/11/2010  20:52:00               0.946                     0   \n",
       "2075249  26/11/2010  20:53:00               0.944                     0   \n",
       "2075250  26/11/2010  20:54:00               0.946                     0   \n",
       "2075251  26/11/2010  20:55:00               0.946                     0   \n",
       "2075252  26/11/2010  20:56:00               0.942                     0   \n",
       "2075253  26/11/2010  20:57:00               0.946                     0   \n",
       "2075254  26/11/2010  20:58:00               0.946                     0   \n",
       "2075255  26/11/2010  20:59:00               0.944                     0   \n",
       "2075256  26/11/2010  21:00:00               0.938                     0   \n",
       "2075257  26/11/2010  21:01:00               0.934                     0   \n",
       "2075258  26/11/2010  21:02:00               0.932                     0   \n",
       "\n",
       "         Voltage Global_intensity Sub_metering_1 Sub_metering_2  \\\n",
       "0        234.840           18.400          0.000          1.000   \n",
       "1        233.630           23.000          0.000          1.000   \n",
       "2        233.290           23.000          0.000          2.000   \n",
       "3        233.740           23.000          0.000          1.000   \n",
       "4        235.680           15.800          0.000          1.000   \n",
       "5        235.020           15.000          0.000          2.000   \n",
       "6        235.090           15.800          0.000          1.000   \n",
       "7        235.220           15.800          0.000          1.000   \n",
       "8        233.990           15.800          0.000          1.000   \n",
       "9        233.860           15.800          0.000          2.000   \n",
       "10       232.860           19.600          0.000          1.000   \n",
       "11       232.780           23.200          0.000          1.000   \n",
       "12       232.990           22.400          0.000          1.000   \n",
       "13       232.910           22.600          0.000          2.000   \n",
       "14       235.240           17.600          0.000          1.000   \n",
       "15       237.140           14.200          0.000          0.000   \n",
       "16       236.730           13.800          0.000          0.000   \n",
       "17       237.060           14.400          0.000          0.000   \n",
       "18       237.130           13.800          0.000          0.000   \n",
       "19       235.840           16.400          0.000          0.000   \n",
       "20       232.690           25.400          0.000          0.000   \n",
       "21       230.980           33.200          0.000          0.000   \n",
       "22       232.210           30.600          0.000          0.000   \n",
       "23       234.190           22.000          0.000          0.000   \n",
       "24       234.960           19.400          0.000          0.000   \n",
       "25       236.660           13.600          0.000          0.000   \n",
       "26       235.840           13.600          0.000          0.000   \n",
       "27       235.600           13.600          0.000          0.000   \n",
       "28       235.490           13.800          0.000          0.000   \n",
       "29       235.280           13.400          0.000          0.000   \n",
       "...          ...              ...            ...            ...   \n",
       "2075229   240.28                4              0              1   \n",
       "2075230   237.57                4              0              1   \n",
       "2075231   238.01                4              0              1   \n",
       "2075232   238.07                4              0              1   \n",
       "2075233    237.9              4.2              0              1   \n",
       "2075234   236.97                4              0              2   \n",
       "2075235   238.16              4.2              0              1   \n",
       "2075236   238.92              4.2              0              1   \n",
       "2075237   239.57              4.2              0              1   \n",
       "2075238    239.6              4.2              0              1   \n",
       "2075239   239.64              4.2              0              1   \n",
       "2075240   238.69                4              0              1   \n",
       "2075241   238.32                4              0              2   \n",
       "2075242   238.53              3.8              0              1   \n",
       "2075243   238.71              3.8              0              1   \n",
       "2075244   239.25              3.8              0              1   \n",
       "2075245   238.16                4              0              1   \n",
       "2075246   238.11                5              0              1   \n",
       "2075247   238.84              4.2              0              1   \n",
       "2075248   239.05                4              0              0   \n",
       "2075249   238.72                4              0              0   \n",
       "2075250   239.31                4              0              0   \n",
       "2075251   239.74                4              0              0   \n",
       "2075252   239.41                4              0              0   \n",
       "2075253   240.33                4              0              0   \n",
       "2075254   240.43                4              0              0   \n",
       "2075255      240                4              0              0   \n",
       "2075256   239.82              3.8              0              0   \n",
       "2075257    239.7              3.8              0              0   \n",
       "2075258   239.55              3.8              0              0   \n",
       "\n",
       "         Sub_metering_3  \n",
       "0                  17.0  \n",
       "1                  16.0  \n",
       "2                  17.0  \n",
       "3                  17.0  \n",
       "4                  17.0  \n",
       "5                  17.0  \n",
       "6                  17.0  \n",
       "7                  17.0  \n",
       "8                  17.0  \n",
       "9                  16.0  \n",
       "10                 17.0  \n",
       "11                 17.0  \n",
       "12                 16.0  \n",
       "13                 17.0  \n",
       "14                 17.0  \n",
       "15                 17.0  \n",
       "16                 17.0  \n",
       "17                 17.0  \n",
       "18                 18.0  \n",
       "19                 17.0  \n",
       "20                 16.0  \n",
       "21                 17.0  \n",
       "22                 16.0  \n",
       "23                 17.0  \n",
       "24                 17.0  \n",
       "25                 17.0  \n",
       "26                 17.0  \n",
       "27                 17.0  \n",
       "28                 17.0  \n",
       "29                 17.0  \n",
       "...                 ...  \n",
       "2075229             0.0  \n",
       "2075230             0.0  \n",
       "2075231             0.0  \n",
       "2075232             0.0  \n",
       "2075233             0.0  \n",
       "2075234             0.0  \n",
       "2075235             0.0  \n",
       "2075236             0.0  \n",
       "2075237             0.0  \n",
       "2075238             0.0  \n",
       "2075239             0.0  \n",
       "2075240             0.0  \n",
       "2075241             0.0  \n",
       "2075242             0.0  \n",
       "2075243             0.0  \n",
       "2075244             0.0  \n",
       "2075245             0.0  \n",
       "2075246             0.0  \n",
       "2075247             0.0  \n",
       "2075248             0.0  \n",
       "2075249             0.0  \n",
       "2075250             0.0  \n",
       "2075251             0.0  \n",
       "2075252             0.0  \n",
       "2075253             0.0  \n",
       "2075254             0.0  \n",
       "2075255             0.0  \n",
       "2075256             0.0  \n",
       "2075257             0.0  \n",
       "2075258             0.0  \n",
       "\n",
       "[2075259 rows x 9 columns]>"
      ]
     },
     "execution_count": 4,
     "metadata": {},
     "output_type": "execute_result"
    }
   ],
   "source": [
    "df = df.replace('?',None)\n",
    "df.dropna"
   ]
  },
  {
   "cell_type": "code",
   "execution_count": 5,
   "metadata": {},
   "outputs": [
    {
     "data": {
      "text/plain": [
       "Index(['Date', 'Time', 'Global_active_power', 'Global_reactive_power',\n",
       "       'Voltage', 'Global_intensity', 'Sub_metering_1', 'Sub_metering_2',\n",
       "       'Sub_metering_3'],\n",
       "      dtype='object')"
      ]
     },
     "execution_count": 5,
     "metadata": {},
     "output_type": "execute_result"
    }
   ],
   "source": [
    "df.columns"
   ]
  },
  {
   "cell_type": "markdown",
   "metadata": {},
   "source": [
    "## Finding significant parameters"
   ]
  },
  {
   "cell_type": "code",
   "execution_count": 6,
   "metadata": {},
   "outputs": [
    {
     "data": {
      "text/plain": [
       "count    2.075259e+06\n",
       "mean     1.110995e+00\n",
       "std      6.115908e+00\n",
       "min      0.000000e+00\n",
       "25%      0.000000e+00\n",
       "50%      0.000000e+00\n",
       "75%      0.000000e+00\n",
       "max      8.800000e+01\n",
       "Name: Sub_metering_1, dtype: float64"
      ]
     },
     "execution_count": 6,
     "metadata": {},
     "output_type": "execute_result"
    },
    {
     "data": {
      "image/png": "[encoded data removed]",
      "text/plain": [
       "<Figure size 432x288 with 1 Axes>"
      ]
     },
     "metadata": {
      "needs_background": "light"
     },
     "output_type": "display_data"
    }
   ],
   "source": [
    "df['Sub_metering_1'] = pd.Series(np.array([float(j) for j in df['Sub_metering_1'].values]))\n",
    "plt.plot(df['Sub_metering_1'].values)\n",
    "df['Sub_metering_1'].describe()"
   ]
  },
  {
   "cell_type": "code",
   "execution_count": 7,
   "metadata": {},
   "outputs": [
    {
     "data": {
      "text/plain": [
       "count    2.075259e+06\n",
       "mean     1.287958e+00\n",
       "std      5.786865e+00\n",
       "min      0.000000e+00\n",
       "25%      0.000000e+00\n",
       "50%      0.000000e+00\n",
       "75%      1.000000e+00\n",
       "max      8.000000e+01\n",
       "Name: Sub_metering_2, dtype: float64"
      ]
     },
     "execution_count": 7,
     "metadata": {},
     "output_type": "execute_result"
    },
    {
     "data": {
      "image/png": "[encoded data removed]",
      "text/plain": [
       "<Figure size 432x288 with 1 Axes>"
      ]
     },
     "metadata": {
      "needs_background": "light"
     },
     "output_type": "display_data"
    }
   ],
   "source": [
    "df['Sub_metering_2'] = pd.Series(np.array([float(j) for j in df['Sub_metering_2'].values]))\n",
    "plt.plot(df['Sub_metering_2'].values)\n",
    "df['Sub_metering_2'].describe()"
   ]
  },
  {
   "cell_type": "code",
   "execution_count": 8,
   "metadata": {},
   "outputs": [
    {
     "data": {
      "text/plain": [
       "count    2.049280e+06\n",
       "mean     6.458447e+00\n",
       "std      8.437154e+00\n",
       "min      0.000000e+00\n",
       "25%      0.000000e+00\n",
       "50%      1.000000e+00\n",
       "75%      1.700000e+01\n",
       "max      3.100000e+01\n",
       "Name: Sub_metering_3, dtype: float64"
      ]
     },
     "execution_count": 8,
     "metadata": {},
     "output_type": "execute_result"
    },
    {
     "data": {
      "image/png": "[encoded data removed]",
      "text/plain": [
       "<Figure size 432x288 with 1 Axes>"
      ]
     },
     "metadata": {
      "needs_background": "light"
     },
     "output_type": "display_data"
    }
   ],
   "source": [
    "df['Sub_metering_3'] = pd.Series(np.array([float(j) for j in df['Sub_metering_3'].values]))\n",
    "plt.plot(df['Sub_metering_3'].values)\n",
    "df['Sub_metering_3'].describe()"
   ]
  },
  {
   "cell_type": "code",
   "execution_count": 9,
   "metadata": {},
   "outputs": [
    {
     "data": {
      "text/plain": [
       "count    2.075259e+06\n",
       "mean     2.408416e+02\n",
       "std      3.235574e+00\n",
       "min      2.232000e+02\n",
       "25%      2.390000e+02\n",
       "50%      2.410200e+02\n",
       "75%      2.428700e+02\n",
       "max      2.541500e+02\n",
       "Name: Voltage, dtype: float64"
      ]
     },
     "execution_count": 9,
     "metadata": {},
     "output_type": "execute_result"
    },
    {
     "data": {
      "image/png": "[encoded data removed]",
      "text/plain": [
       "<Figure size 432x288 with 1 Axes>"
      ]
     },
     "metadata": {
      "needs_background": "light"
     },
     "output_type": "display_data"
    }
   ],
   "source": [
    "df['Voltage'] = pd.Series(np.array([float(j) for j in df['Voltage'].values]))\n",
    "plt.plot(df['Voltage'].values)\n",
    "df['Voltage'].describe()"
   ]
  },
  {
   "cell_type": "code",
   "execution_count": 10,
   "metadata": {},
   "outputs": [
    {
     "data": {
      "text/plain": [
       "count    2.075259e+06\n",
       "mean     1.233280e-01\n",
       "std      1.125144e-01\n",
       "min      0.000000e+00\n",
       "25%      4.800000e-02\n",
       "50%      1.000000e-01\n",
       "75%      1.940000e-01\n",
       "max      1.390000e+00\n",
       "Name: Global_reactive_power, dtype: float64"
      ]
     },
     "execution_count": 10,
     "metadata": {},
     "output_type": "execute_result"
    },
    {
     "data": {
      "image/png": "[encoded data removed]",
      "text/plain": [
       "<Figure size 432x288 with 1 Axes>"
      ]
     },
     "metadata": {
      "needs_background": "light"
     },
     "output_type": "display_data"
    }
   ],
   "source": [
    "df['Global_reactive_power'] = pd.Series(np.array([float(j) for j in df['Global_reactive_power'].values]))\n",
    "plt.plot(df['Global_reactive_power'].values)\n",
    "df['Global_reactive_power'].describe()"
   ]
  },
  {
   "cell_type": "code",
   "execution_count": 11,
   "metadata": {},
   "outputs": [
    {
     "data": {
      "text/plain": [
       "count    2.075259e+06\n",
       "mean     1.086168e+00\n",
       "std      1.053172e+00\n",
       "min      7.600000e-02\n",
       "25%      3.080000e-01\n",
       "50%      5.980000e-01\n",
       "75%      1.524000e+00\n",
       "max      1.112200e+01\n",
       "Name: Global_active_power, dtype: float64"
      ]
     },
     "execution_count": 11,
     "metadata": {},
     "output_type": "execute_result"
    },
    {
     "data": {
      "image/png": "[encoded data removed]",
      "text/plain": [
       "<Figure size 432x288 with 1 Axes>"
      ]
     },
     "metadata": {
      "needs_background": "light"
     },
     "output_type": "display_data"
    }
   ],
   "source": [
    "df['Global_active_power'] = pd.Series(np.array([float(j) for j in df['Global_active_power'].values]))\n",
    "plt.plot(df['Global_active_power'].values)\n",
    "df['Global_active_power'].describe()"
   ]
  },
  {
   "cell_type": "markdown",
   "metadata": {},
   "source": [
    "## Check for periodicity"
   ]
  },
  {
   "cell_type": "markdown",
   "metadata": {},
   "source": [
    "### Finding tentative segment width"
   ]
  },
  {
   "cell_type": "markdown",
   "metadata": {},
   "source": [
    "#### Number of entries above certain tresholds"
   ]
  },
  {
   "cell_type": "code",
   "execution_count": 12,
   "metadata": {},
   "outputs": [
    {
     "data": {
      "text/plain": [
       "[<matplotlib.lines.Line2D at 0x20b06bde278>]"
      ]
     },
     "execution_count": 12,
     "metadata": {},
     "output_type": "execute_result"
    },
    {
     "data": {
      "image/png": "[encoded data removed]",
      "text/plain": [
       "<Figure size 432x288 with 1 Axes>"
      ]
     },
     "metadata": {
      "needs_background": "light"
     },
     "output_type": "display_data"
    }
   ],
   "source": [
    "plt.plot(0.001*np.arange(6000,np.max(df['Global_active_power'])*1000),np.array([len(df[df['Global_active_power']>x].index) for x in 0.001*np.arange(6000,np.max(df['Global_active_power'])*1000)]))"
   ]
  },
  {
   "cell_type": "code",
   "execution_count": 13,
   "metadata": {},
   "outputs": [
    {
     "data": {
      "text/plain": [
       "Int64Index([ 112448,  112449,  112450,  112451,  535805,  542860,  584768,\n",
       "             584769,  584790,  586200,  586201,  968160,  968161,  968163,\n",
       "            1029773, 1029774, 1029775, 1110009, 1150544, 1150545, 1150546,\n",
       "            1546690, 1546691, 1546692, 1546693, 1546694, 1546695, 2066458,\n",
       "            2066459, 2066460, 2066461, 2066462],\n",
       "           dtype='int64')"
      ]
     },
     "execution_count": 13,
     "metadata": {},
     "output_type": "execute_result"
    }
   ],
   "source": [
    "df[df['Global_active_power']>9.5].index"
   ]
  },
  {
   "cell_type": "code",
   "execution_count": 14,
   "metadata": {},
   "outputs": [
    {
     "data": {
      "text/plain": [
       "[<matplotlib.lines.Line2D at 0x20b069e1860>]"
      ]
     },
     "execution_count": 14,
     "metadata": {},
     "output_type": "execute_result"
    },
    {
     "data": {
      "image/png": "[encoded data removed]",
      "text/plain": [
       "<Figure size 432x288 with 1 Axes>"
      ]
     },
     "metadata": {
      "needs_background": "light"
     },
     "output_type": "display_data"
    }
   ],
   "source": [
    "plt.plot(df['Global_active_power'].values[:112448])"
   ]
  },
  {
   "cell_type": "code",
   "execution_count": 15,
   "metadata": {},
   "outputs": [
    {
     "name": "stderr",
     "output_type": "stream",
     "text": [
      "C:\\Users\\Sumit\\Anaconda3\\lib\\site-packages\\numpy\\core\\fromnumeric.py:51: FutureWarning: 'argmax' is deprecated, use 'idxmax' instead. The behavior of 'argmax'\n",
      "will be corrected to return the positional maximum in the future.\n",
      "Use 'series.values.argmax' to get the position of the maximum now.\n",
      "  return getattr(obj, method)(*args, **kwds)\n"
     ]
    },
    {
     "data": {
      "text/plain": [
       "586200"
      ]
     },
     "execution_count": 15,
     "metadata": {},
     "output_type": "execute_result"
    }
   ],
   "source": [
    "W = np.argmax(df['Global_active_power'][[535805,  542860,  584768,584769,  584790,  586200,  586201]])\n",
    "W"
   ]
  },
  {
   "cell_type": "code",
   "execution_count": 16,
   "metadata": {},
   "outputs": [
    {
     "data": {
      "text/plain": [
       "1758600"
      ]
     },
     "execution_count": 16,
     "metadata": {},
     "output_type": "execute_result"
    }
   ],
   "source": [
    "MaxRange = int(df.shape[0]/W)*W\n",
    "MaxRange"
   ]
  },
  {
   "cell_type": "code",
   "execution_count": 17,
   "metadata": {},
   "outputs": [],
   "source": [
    "Ref = np.array(list(df['Global_active_power'][:W].values)*2)"
   ]
  },
  {
   "cell_type": "code",
   "execution_count": 18,
   "metadata": {},
   "outputs": [
    {
     "data": {
      "text/plain": [
       "[<matplotlib.lines.Line2D at 0x20b1bf93eb8>]"
      ]
     },
     "execution_count": 18,
     "metadata": {},
     "output_type": "execute_result"
    },
    {
     "data": {
      "image/png": "[encoded data removed]",
      "text/plain": [
       "<Figure size 432x288 with 1 Axes>"
      ]
     },
     "metadata": {
      "needs_background": "light"
     },
     "output_type": "display_data"
    }
   ],
   "source": [
    "plt.plot(Ref)"
   ]
  },
  {
   "cell_type": "code",
   "execution_count": 19,
   "metadata": {},
   "outputs": [],
   "source": [
    "Diff = abs(Ref-df['Global_active_power'][W:MaxRange].values)"
   ]
  },
  {
   "cell_type": "code",
   "execution_count": 20,
   "metadata": {},
   "outputs": [
    {
     "data": {
      "text/plain": [
       "1.0699364261344246"
      ]
     },
     "execution_count": 20,
     "metadata": {},
     "output_type": "execute_result"
    }
   ],
   "source": [
    "np.mean(Diff)"
   ]
  },
  {
   "cell_type": "code",
   "execution_count": 21,
   "metadata": {},
   "outputs": [
    {
     "data": {
      "text/plain": [
       "[<matplotlib.lines.Line2D at 0x20b075b9278>]"
      ]
     },
     "execution_count": 21,
     "metadata": {},
     "output_type": "execute_result"
    },
    {
     "data": {
      "image/png": "[encoded data removed]",
      "text/plain": [
       "<Figure size 432x288 with 1 Axes>"
      ]
     },
     "metadata": {
      "needs_background": "light"
     },
     "output_type": "display_data"
    }
   ],
   "source": [
    "plt.plot(Diff)"
   ]
  },
  {
   "cell_type": "markdown",
   "metadata": {},
   "source": [
    "### Check seasonalitiy"
   ]
  },
  {
   "cell_type": "markdown",
   "metadata": {},
   "source": [
    "#### Assigning Months and Seasons to entries on different dates"
   ]
  },
  {
   "cell_type": "code",
   "execution_count": 22,
   "metadata": {},
   "outputs": [
    {
     "data": {
      "text/html": [
       "<div>\n",
       "<style scoped>\n",
       "    .dataframe tbody tr th:only-of-type {\n",
       "        vertical-align: middle;\n",
       "    }\n",
       "\n",
       "    .dataframe tbody tr th {\n",
       "        vertical-align: top;\n",
       "    }\n",
       "\n",
       "    .dataframe thead th {\n",
       "        text-align: right;\n",
       "    }\n",
       "</style>\n",
       "<table border=\"1\" class=\"dataframe\">\n",
       "  <thead>\n",
       "    <tr style=\"text-align: right;\">\n",
       "      <th></th>\n",
       "      <th>Date</th>\n",
       "      <th>Time</th>\n",
       "      <th>Global_active_power</th>\n",
       "      <th>Global_reactive_power</th>\n",
       "      <th>Voltage</th>\n",
       "      <th>Global_intensity</th>\n",
       "      <th>Sub_metering_1</th>\n",
       "      <th>Sub_metering_2</th>\n",
       "      <th>Sub_metering_3</th>\n",
       "    </tr>\n",
       "  </thead>\n",
       "  <tbody>\n",
       "    <tr>\n",
       "      <th>0</th>\n",
       "      <td>16/12/2006</td>\n",
       "      <td>17:24:00</td>\n",
       "      <td>4.216</td>\n",
       "      <td>0.418</td>\n",
       "      <td>234.84</td>\n",
       "      <td>18.400</td>\n",
       "      <td>0.0</td>\n",
       "      <td>1.0</td>\n",
       "      <td>17.0</td>\n",
       "    </tr>\n",
       "    <tr>\n",
       "      <th>1</th>\n",
       "      <td>16/12/2006</td>\n",
       "      <td>17:25:00</td>\n",
       "      <td>5.360</td>\n",
       "      <td>0.436</td>\n",
       "      <td>233.63</td>\n",
       "      <td>23.000</td>\n",
       "      <td>0.0</td>\n",
       "      <td>1.0</td>\n",
       "      <td>16.0</td>\n",
       "    </tr>\n",
       "    <tr>\n",
       "      <th>2</th>\n",
       "      <td>16/12/2006</td>\n",
       "      <td>17:26:00</td>\n",
       "      <td>5.374</td>\n",
       "      <td>0.498</td>\n",
       "      <td>233.29</td>\n",
       "      <td>23.000</td>\n",
       "      <td>0.0</td>\n",
       "      <td>2.0</td>\n",
       "      <td>17.0</td>\n",
       "    </tr>\n",
       "    <tr>\n",
       "      <th>3</th>\n",
       "      <td>16/12/2006</td>\n",
       "      <td>17:27:00</td>\n",
       "      <td>5.388</td>\n",
       "      <td>0.502</td>\n",
       "      <td>233.74</td>\n",
       "      <td>23.000</td>\n",
       "      <td>0.0</td>\n",
       "      <td>1.0</td>\n",
       "      <td>17.0</td>\n",
       "    </tr>\n",
       "    <tr>\n",
       "      <th>4</th>\n",
       "      <td>16/12/2006</td>\n",
       "      <td>17:28:00</td>\n",
       "      <td>3.666</td>\n",
       "      <td>0.528</td>\n",
       "      <td>235.68</td>\n",
       "      <td>15.800</td>\n",
       "      <td>0.0</td>\n",
       "      <td>1.0</td>\n",
       "      <td>17.0</td>\n",
       "    </tr>\n",
       "  </tbody>\n",
       "</table>\n",
       "</div>"
      ],
      "text/plain": [
       "         Date      Time  Global_active_power  Global_reactive_power  Voltage  \\\n",
       "0  16/12/2006  17:24:00                4.216                  0.418   234.84   \n",
       "1  16/12/2006  17:25:00                5.360                  0.436   233.63   \n",
       "2  16/12/2006  17:26:00                5.374                  0.498   233.29   \n",
       "3  16/12/2006  17:27:00                5.388                  0.502   233.74   \n",
       "4  16/12/2006  17:28:00                3.666                  0.528   235.68   \n",
       "\n",
       "  Global_intensity  Sub_metering_1  Sub_metering_2  Sub_metering_3  \n",
       "0           18.400             0.0             1.0            17.0  \n",
       "1           23.000             0.0             1.0            16.0  \n",
       "2           23.000             0.0             2.0            17.0  \n",
       "3           23.000             0.0             1.0            17.0  \n",
       "4           15.800             0.0             1.0            17.0  "
      ]
     },
     "execution_count": 22,
     "metadata": {},
     "output_type": "execute_result"
    }
   ],
   "source": [
    "df.head()"
   ]
  },
  {
   "cell_type": "code",
   "execution_count": 23,
   "metadata": {},
   "outputs": [],
   "source": [
    "Months = ['Jan', 'Feb', 'Mar', 'Apr', 'May', 'June','July','Aug','Sept', 'Oct', 'Nov', 'Dec']\n",
    "Seasons = ['Winter','Winter','Spring','Spring','Spring','Summer','Summer','Summer','Fall','Fall','Fall','Winter']\n",
    "Month = []\n",
    "Season = []\n",
    "dd = 0"
   ]
  },
  {
   "cell_type": "code",
   "execution_count": 24,
   "metadata": {},
   "outputs": [],
   "source": [
    "for date in df['Date']:\n",
    "    if(date[1]=='/'):\n",
    "        date = date[2:4]\n",
    "    else:\n",
    "        date = date[3:5]\n",
    "    #print(date)\n",
    "    \n",
    "    if(date[1]=='/'):\n",
    "        date = date[0]\n",
    "    \n",
    "    #print(date)\n",
    "    \n",
    "    Month.append(Months[int(date)-1])\n",
    "    Season.append(Seasons[int(date)-1])"
   ]
  },
  {
   "cell_type": "code",
   "execution_count": 25,
   "metadata": {},
   "outputs": [],
   "source": [
    "df['Month'] = pd.Series(Month)\n",
    "df['Season'] = pd.Series(Season)"
   ]
  },
  {
   "cell_type": "code",
   "execution_count": 26,
   "metadata": {},
   "outputs": [
    {
     "name": "stderr",
     "output_type": "stream",
     "text": [
      "C:\\Users\\Sumit\\Anaconda3\\lib\\site-packages\\ipykernel_launcher.py:3: SettingWithCopyWarning: \n",
      "A value is trying to be set on a copy of a slice from a DataFrame.\n",
      "Try using .loc[row_indexer,col_indexer] = value instead\n",
      "\n",
      "See the caveats in the documentation: http://pandas.pydata.org/pandas-docs/stable/indexing.html#indexing-view-versus-copy\n",
      "  This is separate from the ipykernel package so we can avoid doing imports until\n"
     ]
    },
    {
     "data": {
      "text/html": [
       "<div>\n",
       "<style scoped>\n",
       "    .dataframe tbody tr th:only-of-type {\n",
       "        vertical-align: middle;\n",
       "    }\n",
       "\n",
       "    .dataframe tbody tr th {\n",
       "        vertical-align: top;\n",
       "    }\n",
       "\n",
       "    .dataframe thead th {\n",
       "        text-align: right;\n",
       "    }\n",
       "</style>\n",
       "<table border=\"1\" class=\"dataframe\">\n",
       "  <thead>\n",
       "    <tr style=\"text-align: right;\">\n",
       "      <th></th>\n",
       "      <th>Date</th>\n",
       "      <th>Time</th>\n",
       "      <th>Global_active_power</th>\n",
       "      <th>Global_reactive_power</th>\n",
       "      <th>Voltage</th>\n",
       "      <th>Global_intensity</th>\n",
       "      <th>Sub_metering_1</th>\n",
       "      <th>Sub_metering_2</th>\n",
       "      <th>Sub_metering_3</th>\n",
       "      <th>Month</th>\n",
       "      <th>Season</th>\n",
       "    </tr>\n",
       "    <tr>\n",
       "      <th>Index</th>\n",
       "      <th></th>\n",
       "      <th></th>\n",
       "      <th></th>\n",
       "      <th></th>\n",
       "      <th></th>\n",
       "      <th></th>\n",
       "      <th></th>\n",
       "      <th></th>\n",
       "      <th></th>\n",
       "      <th></th>\n",
       "      <th></th>\n",
       "    </tr>\n",
       "  </thead>\n",
       "  <tbody>\n",
       "    <tr>\n",
       "      <th>0</th>\n",
       "      <td>17/12/2006</td>\n",
       "      <td>00:00:00</td>\n",
       "      <td>1.044</td>\n",
       "      <td>0.152</td>\n",
       "      <td>242.73</td>\n",
       "      <td>4.400</td>\n",
       "      <td>0.0</td>\n",
       "      <td>2.0</td>\n",
       "      <td>0.0</td>\n",
       "      <td>Dec</td>\n",
       "      <td>Winter</td>\n",
       "    </tr>\n",
       "    <tr>\n",
       "      <th>1</th>\n",
       "      <td>17/12/2006</td>\n",
       "      <td>00:01:00</td>\n",
       "      <td>1.520</td>\n",
       "      <td>0.220</td>\n",
       "      <td>242.20</td>\n",
       "      <td>7.400</td>\n",
       "      <td>0.0</td>\n",
       "      <td>1.0</td>\n",
       "      <td>0.0</td>\n",
       "      <td>Dec</td>\n",
       "      <td>Winter</td>\n",
       "    </tr>\n",
       "    <tr>\n",
       "      <th>2</th>\n",
       "      <td>17/12/2006</td>\n",
       "      <td>00:02:00</td>\n",
       "      <td>3.038</td>\n",
       "      <td>0.194</td>\n",
       "      <td>240.14</td>\n",
       "      <td>12.600</td>\n",
       "      <td>0.0</td>\n",
       "      <td>2.0</td>\n",
       "      <td>0.0</td>\n",
       "      <td>Dec</td>\n",
       "      <td>Winter</td>\n",
       "    </tr>\n",
       "    <tr>\n",
       "      <th>3</th>\n",
       "      <td>17/12/2006</td>\n",
       "      <td>00:03:00</td>\n",
       "      <td>2.974</td>\n",
       "      <td>0.194</td>\n",
       "      <td>239.97</td>\n",
       "      <td>12.400</td>\n",
       "      <td>0.0</td>\n",
       "      <td>1.0</td>\n",
       "      <td>0.0</td>\n",
       "      <td>Dec</td>\n",
       "      <td>Winter</td>\n",
       "    </tr>\n",
       "    <tr>\n",
       "      <th>4</th>\n",
       "      <td>17/12/2006</td>\n",
       "      <td>00:04:00</td>\n",
       "      <td>2.846</td>\n",
       "      <td>0.198</td>\n",
       "      <td>240.39</td>\n",
       "      <td>11.800</td>\n",
       "      <td>0.0</td>\n",
       "      <td>2.0</td>\n",
       "      <td>0.0</td>\n",
       "      <td>Dec</td>\n",
       "      <td>Winter</td>\n",
       "    </tr>\n",
       "    <tr>\n",
       "      <th>5</th>\n",
       "      <td>17/12/2006</td>\n",
       "      <td>00:05:00</td>\n",
       "      <td>2.848</td>\n",
       "      <td>0.198</td>\n",
       "      <td>240.59</td>\n",
       "      <td>11.800</td>\n",
       "      <td>0.0</td>\n",
       "      <td>1.0</td>\n",
       "      <td>0.0</td>\n",
       "      <td>Dec</td>\n",
       "      <td>Winter</td>\n",
       "    </tr>\n",
       "    <tr>\n",
       "      <th>6</th>\n",
       "      <td>17/12/2006</td>\n",
       "      <td>00:06:00</td>\n",
       "      <td>2.858</td>\n",
       "      <td>0.202</td>\n",
       "      <td>241.14</td>\n",
       "      <td>11.800</td>\n",
       "      <td>0.0</td>\n",
       "      <td>1.0</td>\n",
       "      <td>0.0</td>\n",
       "      <td>Dec</td>\n",
       "      <td>Winter</td>\n",
       "    </tr>\n",
       "    <tr>\n",
       "      <th>7</th>\n",
       "      <td>17/12/2006</td>\n",
       "      <td>00:07:00</td>\n",
       "      <td>2.472</td>\n",
       "      <td>0.208</td>\n",
       "      <td>241.62</td>\n",
       "      <td>10.800</td>\n",
       "      <td>0.0</td>\n",
       "      <td>2.0</td>\n",
       "      <td>0.0</td>\n",
       "      <td>Dec</td>\n",
       "      <td>Winter</td>\n",
       "    </tr>\n",
       "    <tr>\n",
       "      <th>8</th>\n",
       "      <td>17/12/2006</td>\n",
       "      <td>00:08:00</td>\n",
       "      <td>0.658</td>\n",
       "      <td>0.244</td>\n",
       "      <td>243.75</td>\n",
       "      <td>3.000</td>\n",
       "      <td>0.0</td>\n",
       "      <td>1.0</td>\n",
       "      <td>0.0</td>\n",
       "      <td>Dec</td>\n",
       "      <td>Winter</td>\n",
       "    </tr>\n",
       "    <tr>\n",
       "      <th>9</th>\n",
       "      <td>17/12/2006</td>\n",
       "      <td>00:09:00</td>\n",
       "      <td>0.838</td>\n",
       "      <td>0.334</td>\n",
       "      <td>242.09</td>\n",
       "      <td>4.800</td>\n",
       "      <td>0.0</td>\n",
       "      <td>2.0</td>\n",
       "      <td>0.0</td>\n",
       "      <td>Dec</td>\n",
       "      <td>Winter</td>\n",
       "    </tr>\n",
       "    <tr>\n",
       "      <th>10</th>\n",
       "      <td>17/12/2006</td>\n",
       "      <td>00:10:00</td>\n",
       "      <td>2.608</td>\n",
       "      <td>0.298</td>\n",
       "      <td>239.45</td>\n",
       "      <td>10.800</td>\n",
       "      <td>0.0</td>\n",
       "      <td>1.0</td>\n",
       "      <td>0.0</td>\n",
       "      <td>Dec</td>\n",
       "      <td>Winter</td>\n",
       "    </tr>\n",
       "    <tr>\n",
       "      <th>11</th>\n",
       "      <td>17/12/2006</td>\n",
       "      <td>00:11:00</td>\n",
       "      <td>2.598</td>\n",
       "      <td>0.296</td>\n",
       "      <td>239.44</td>\n",
       "      <td>10.800</td>\n",
       "      <td>0.0</td>\n",
       "      <td>1.0</td>\n",
       "      <td>0.0</td>\n",
       "      <td>Dec</td>\n",
       "      <td>Winter</td>\n",
       "    </tr>\n",
       "    <tr>\n",
       "      <th>12</th>\n",
       "      <td>17/12/2006</td>\n",
       "      <td>00:12:00</td>\n",
       "      <td>2.560</td>\n",
       "      <td>0.286</td>\n",
       "      <td>238.71</td>\n",
       "      <td>10.800</td>\n",
       "      <td>0.0</td>\n",
       "      <td>2.0</td>\n",
       "      <td>0.0</td>\n",
       "      <td>Dec</td>\n",
       "      <td>Winter</td>\n",
       "    </tr>\n",
       "    <tr>\n",
       "      <th>13</th>\n",
       "      <td>17/12/2006</td>\n",
       "      <td>00:13:00</td>\n",
       "      <td>2.526</td>\n",
       "      <td>0.278</td>\n",
       "      <td>236.95</td>\n",
       "      <td>10.600</td>\n",
       "      <td>0.0</td>\n",
       "      <td>1.0</td>\n",
       "      <td>0.0</td>\n",
       "      <td>Dec</td>\n",
       "      <td>Winter</td>\n",
       "    </tr>\n",
       "    <tr>\n",
       "      <th>14</th>\n",
       "      <td>17/12/2006</td>\n",
       "      <td>00:14:00</td>\n",
       "      <td>2.472</td>\n",
       "      <td>0.194</td>\n",
       "      <td>237.55</td>\n",
       "      <td>10.400</td>\n",
       "      <td>0.0</td>\n",
       "      <td>1.0</td>\n",
       "      <td>0.0</td>\n",
       "      <td>Dec</td>\n",
       "      <td>Winter</td>\n",
       "    </tr>\n",
       "    <tr>\n",
       "      <th>15</th>\n",
       "      <td>17/12/2006</td>\n",
       "      <td>00:15:00</td>\n",
       "      <td>1.658</td>\n",
       "      <td>0.166</td>\n",
       "      <td>238.48</td>\n",
       "      <td>8.000</td>\n",
       "      <td>0.0</td>\n",
       "      <td>1.0</td>\n",
       "      <td>0.0</td>\n",
       "      <td>Dec</td>\n",
       "      <td>Winter</td>\n",
       "    </tr>\n",
       "    <tr>\n",
       "      <th>16</th>\n",
       "      <td>17/12/2006</td>\n",
       "      <td>00:16:00</td>\n",
       "      <td>0.422</td>\n",
       "      <td>0.184</td>\n",
       "      <td>239.79</td>\n",
       "      <td>1.800</td>\n",
       "      <td>0.0</td>\n",
       "      <td>2.0</td>\n",
       "      <td>0.0</td>\n",
       "      <td>Dec</td>\n",
       "      <td>Winter</td>\n",
       "    </tr>\n",
       "    <tr>\n",
       "      <th>17</th>\n",
       "      <td>17/12/2006</td>\n",
       "      <td>00:17:00</td>\n",
       "      <td>0.790</td>\n",
       "      <td>0.178</td>\n",
       "      <td>239.47</td>\n",
       "      <td>4.600</td>\n",
       "      <td>0.0</td>\n",
       "      <td>1.0</td>\n",
       "      <td>0.0</td>\n",
       "      <td>Dec</td>\n",
       "      <td>Winter</td>\n",
       "    </tr>\n",
       "    <tr>\n",
       "      <th>18</th>\n",
       "      <td>17/12/2006</td>\n",
       "      <td>00:18:00</td>\n",
       "      <td>2.436</td>\n",
       "      <td>0.120</td>\n",
       "      <td>238.51</td>\n",
       "      <td>10.200</td>\n",
       "      <td>0.0</td>\n",
       "      <td>1.0</td>\n",
       "      <td>0.0</td>\n",
       "      <td>Dec</td>\n",
       "      <td>Winter</td>\n",
       "    </tr>\n",
       "    <tr>\n",
       "      <th>19</th>\n",
       "      <td>17/12/2006</td>\n",
       "      <td>00:19:00</td>\n",
       "      <td>2.396</td>\n",
       "      <td>0.056</td>\n",
       "      <td>239.03</td>\n",
       "      <td>10.000</td>\n",
       "      <td>0.0</td>\n",
       "      <td>1.0</td>\n",
       "      <td>0.0</td>\n",
       "      <td>Dec</td>\n",
       "      <td>Winter</td>\n",
       "    </tr>\n",
       "    <tr>\n",
       "      <th>20</th>\n",
       "      <td>17/12/2006</td>\n",
       "      <td>00:20:00</td>\n",
       "      <td>2.338</td>\n",
       "      <td>0.000</td>\n",
       "      <td>238.37</td>\n",
       "      <td>9.800</td>\n",
       "      <td>0.0</td>\n",
       "      <td>1.0</td>\n",
       "      <td>0.0</td>\n",
       "      <td>Dec</td>\n",
       "      <td>Winter</td>\n",
       "    </tr>\n",
       "    <tr>\n",
       "      <th>21</th>\n",
       "      <td>17/12/2006</td>\n",
       "      <td>00:21:00</td>\n",
       "      <td>2.304</td>\n",
       "      <td>0.062</td>\n",
       "      <td>238.38</td>\n",
       "      <td>9.600</td>\n",
       "      <td>0.0</td>\n",
       "      <td>0.0</td>\n",
       "      <td>0.0</td>\n",
       "      <td>Dec</td>\n",
       "      <td>Winter</td>\n",
       "    </tr>\n",
       "    <tr>\n",
       "      <th>22</th>\n",
       "      <td>17/12/2006</td>\n",
       "      <td>00:22:00</td>\n",
       "      <td>0.276</td>\n",
       "      <td>0.000</td>\n",
       "      <td>240.56</td>\n",
       "      <td>1.200</td>\n",
       "      <td>0.0</td>\n",
       "      <td>0.0</td>\n",
       "      <td>0.0</td>\n",
       "      <td>Dec</td>\n",
       "      <td>Winter</td>\n",
       "    </tr>\n",
       "    <tr>\n",
       "      <th>23</th>\n",
       "      <td>17/12/2006</td>\n",
       "      <td>00:23:00</td>\n",
       "      <td>0.712</td>\n",
       "      <td>0.000</td>\n",
       "      <td>239.84</td>\n",
       "      <td>4.600</td>\n",
       "      <td>0.0</td>\n",
       "      <td>0.0</td>\n",
       "      <td>0.0</td>\n",
       "      <td>Dec</td>\n",
       "      <td>Winter</td>\n",
       "    </tr>\n",
       "    <tr>\n",
       "      <th>24</th>\n",
       "      <td>17/12/2006</td>\n",
       "      <td>00:24:00</td>\n",
       "      <td>2.332</td>\n",
       "      <td>0.060</td>\n",
       "      <td>239.11</td>\n",
       "      <td>9.600</td>\n",
       "      <td>0.0</td>\n",
       "      <td>0.0</td>\n",
       "      <td>0.0</td>\n",
       "      <td>Dec</td>\n",
       "      <td>Winter</td>\n",
       "    </tr>\n",
       "    <tr>\n",
       "      <th>25</th>\n",
       "      <td>17/12/2006</td>\n",
       "      <td>00:25:00</td>\n",
       "      <td>2.344</td>\n",
       "      <td>0.058</td>\n",
       "      <td>239.99</td>\n",
       "      <td>9.600</td>\n",
       "      <td>0.0</td>\n",
       "      <td>0.0</td>\n",
       "      <td>0.0</td>\n",
       "      <td>Dec</td>\n",
       "      <td>Winter</td>\n",
       "    </tr>\n",
       "    <tr>\n",
       "      <th>26</th>\n",
       "      <td>17/12/2006</td>\n",
       "      <td>00:26:00</td>\n",
       "      <td>2.354</td>\n",
       "      <td>0.058</td>\n",
       "      <td>240.64</td>\n",
       "      <td>9.800</td>\n",
       "      <td>0.0</td>\n",
       "      <td>0.0</td>\n",
       "      <td>0.0</td>\n",
       "      <td>Dec</td>\n",
       "      <td>Winter</td>\n",
       "    </tr>\n",
       "    <tr>\n",
       "      <th>27</th>\n",
       "      <td>17/12/2006</td>\n",
       "      <td>00:27:00</td>\n",
       "      <td>2.332</td>\n",
       "      <td>0.060</td>\n",
       "      <td>239.45</td>\n",
       "      <td>9.600</td>\n",
       "      <td>0.0</td>\n",
       "      <td>0.0</td>\n",
       "      <td>0.0</td>\n",
       "      <td>Dec</td>\n",
       "      <td>Winter</td>\n",
       "    </tr>\n",
       "    <tr>\n",
       "      <th>28</th>\n",
       "      <td>17/12/2006</td>\n",
       "      <td>00:28:00</td>\n",
       "      <td>2.368</td>\n",
       "      <td>0.056</td>\n",
       "      <td>241.40</td>\n",
       "      <td>9.800</td>\n",
       "      <td>0.0</td>\n",
       "      <td>0.0</td>\n",
       "      <td>0.0</td>\n",
       "      <td>Dec</td>\n",
       "      <td>Winter</td>\n",
       "    </tr>\n",
       "    <tr>\n",
       "      <th>29</th>\n",
       "      <td>17/12/2006</td>\n",
       "      <td>00:29:00</td>\n",
       "      <td>0.612</td>\n",
       "      <td>0.000</td>\n",
       "      <td>243.68</td>\n",
       "      <td>4.000</td>\n",
       "      <td>0.0</td>\n",
       "      <td>0.0</td>\n",
       "      <td>0.0</td>\n",
       "      <td>Dec</td>\n",
       "      <td>Winter</td>\n",
       "    </tr>\n",
       "    <tr>\n",
       "      <th>...</th>\n",
       "      <td>...</td>\n",
       "      <td>...</td>\n",
       "      <td>...</td>\n",
       "      <td>...</td>\n",
       "      <td>...</td>\n",
       "      <td>...</td>\n",
       "      <td>...</td>\n",
       "      <td>...</td>\n",
       "      <td>...</td>\n",
       "      <td>...</td>\n",
       "      <td>...</td>\n",
       "    </tr>\n",
       "    <tr>\n",
       "      <th>2074833</th>\n",
       "      <td>26/11/2010</td>\n",
       "      <td>20:33:00</td>\n",
       "      <td>0.978</td>\n",
       "      <td>0.000</td>\n",
       "      <td>240.28</td>\n",
       "      <td>4</td>\n",
       "      <td>0.0</td>\n",
       "      <td>1.0</td>\n",
       "      <td>0.0</td>\n",
       "      <td>Nov</td>\n",
       "      <td>Fall</td>\n",
       "    </tr>\n",
       "    <tr>\n",
       "      <th>2074834</th>\n",
       "      <td>26/11/2010</td>\n",
       "      <td>20:34:00</td>\n",
       "      <td>0.968</td>\n",
       "      <td>0.000</td>\n",
       "      <td>237.57</td>\n",
       "      <td>4</td>\n",
       "      <td>0.0</td>\n",
       "      <td>1.0</td>\n",
       "      <td>0.0</td>\n",
       "      <td>Nov</td>\n",
       "      <td>Fall</td>\n",
       "    </tr>\n",
       "    <tr>\n",
       "      <th>2074835</th>\n",
       "      <td>26/11/2010</td>\n",
       "      <td>20:35:00</td>\n",
       "      <td>0.960</td>\n",
       "      <td>0.000</td>\n",
       "      <td>238.01</td>\n",
       "      <td>4</td>\n",
       "      <td>0.0</td>\n",
       "      <td>1.0</td>\n",
       "      <td>0.0</td>\n",
       "      <td>Nov</td>\n",
       "      <td>Fall</td>\n",
       "    </tr>\n",
       "    <tr>\n",
       "      <th>2074836</th>\n",
       "      <td>26/11/2010</td>\n",
       "      <td>20:36:00</td>\n",
       "      <td>0.964</td>\n",
       "      <td>0.000</td>\n",
       "      <td>238.07</td>\n",
       "      <td>4</td>\n",
       "      <td>0.0</td>\n",
       "      <td>1.0</td>\n",
       "      <td>0.0</td>\n",
       "      <td>Nov</td>\n",
       "      <td>Fall</td>\n",
       "    </tr>\n",
       "    <tr>\n",
       "      <th>2074837</th>\n",
       "      <td>26/11/2010</td>\n",
       "      <td>20:37:00</td>\n",
       "      <td>0.980</td>\n",
       "      <td>0.000</td>\n",
       "      <td>237.90</td>\n",
       "      <td>4.2</td>\n",
       "      <td>0.0</td>\n",
       "      <td>1.0</td>\n",
       "      <td>0.0</td>\n",
       "      <td>Nov</td>\n",
       "      <td>Fall</td>\n",
       "    </tr>\n",
       "    <tr>\n",
       "      <th>2074838</th>\n",
       "      <td>26/11/2010</td>\n",
       "      <td>20:38:00</td>\n",
       "      <td>0.976</td>\n",
       "      <td>0.096</td>\n",
       "      <td>236.97</td>\n",
       "      <td>4</td>\n",
       "      <td>0.0</td>\n",
       "      <td>2.0</td>\n",
       "      <td>0.0</td>\n",
       "      <td>Nov</td>\n",
       "      <td>Fall</td>\n",
       "    </tr>\n",
       "    <tr>\n",
       "      <th>2074839</th>\n",
       "      <td>26/11/2010</td>\n",
       "      <td>20:39:00</td>\n",
       "      <td>0.984</td>\n",
       "      <td>0.100</td>\n",
       "      <td>238.16</td>\n",
       "      <td>4.2</td>\n",
       "      <td>0.0</td>\n",
       "      <td>1.0</td>\n",
       "      <td>0.0</td>\n",
       "      <td>Nov</td>\n",
       "      <td>Fall</td>\n",
       "    </tr>\n",
       "    <tr>\n",
       "      <th>2074840</th>\n",
       "      <td>26/11/2010</td>\n",
       "      <td>20:40:00</td>\n",
       "      <td>0.986</td>\n",
       "      <td>0.102</td>\n",
       "      <td>238.92</td>\n",
       "      <td>4.2</td>\n",
       "      <td>0.0</td>\n",
       "      <td>1.0</td>\n",
       "      <td>0.0</td>\n",
       "      <td>Nov</td>\n",
       "      <td>Fall</td>\n",
       "    </tr>\n",
       "    <tr>\n",
       "      <th>2074841</th>\n",
       "      <td>26/11/2010</td>\n",
       "      <td>20:41:00</td>\n",
       "      <td>0.990</td>\n",
       "      <td>0.106</td>\n",
       "      <td>239.57</td>\n",
       "      <td>4.2</td>\n",
       "      <td>0.0</td>\n",
       "      <td>1.0</td>\n",
       "      <td>0.0</td>\n",
       "      <td>Nov</td>\n",
       "      <td>Fall</td>\n",
       "    </tr>\n",
       "    <tr>\n",
       "      <th>2074842</th>\n",
       "      <td>26/11/2010</td>\n",
       "      <td>20:42:00</td>\n",
       "      <td>0.988</td>\n",
       "      <td>0.106</td>\n",
       "      <td>239.60</td>\n",
       "      <td>4.2</td>\n",
       "      <td>0.0</td>\n",
       "      <td>1.0</td>\n",
       "      <td>0.0</td>\n",
       "      <td>Nov</td>\n",
       "      <td>Fall</td>\n",
       "    </tr>\n",
       "    <tr>\n",
       "      <th>2074843</th>\n",
       "      <td>26/11/2010</td>\n",
       "      <td>20:43:00</td>\n",
       "      <td>0.988</td>\n",
       "      <td>0.106</td>\n",
       "      <td>239.64</td>\n",
       "      <td>4.2</td>\n",
       "      <td>0.0</td>\n",
       "      <td>1.0</td>\n",
       "      <td>0.0</td>\n",
       "      <td>Nov</td>\n",
       "      <td>Fall</td>\n",
       "    </tr>\n",
       "    <tr>\n",
       "      <th>2074844</th>\n",
       "      <td>26/11/2010</td>\n",
       "      <td>20:44:00</td>\n",
       "      <td>0.982</td>\n",
       "      <td>0.102</td>\n",
       "      <td>238.69</td>\n",
       "      <td>4</td>\n",
       "      <td>0.0</td>\n",
       "      <td>1.0</td>\n",
       "      <td>0.0</td>\n",
       "      <td>Nov</td>\n",
       "      <td>Fall</td>\n",
       "    </tr>\n",
       "    <tr>\n",
       "      <th>2074845</th>\n",
       "      <td>26/11/2010</td>\n",
       "      <td>20:45:00</td>\n",
       "      <td>0.972</td>\n",
       "      <td>0.092</td>\n",
       "      <td>238.32</td>\n",
       "      <td>4</td>\n",
       "      <td>0.0</td>\n",
       "      <td>2.0</td>\n",
       "      <td>0.0</td>\n",
       "      <td>Nov</td>\n",
       "      <td>Fall</td>\n",
       "    </tr>\n",
       "    <tr>\n",
       "      <th>2074846</th>\n",
       "      <td>26/11/2010</td>\n",
       "      <td>20:46:00</td>\n",
       "      <td>0.908</td>\n",
       "      <td>0.000</td>\n",
       "      <td>238.53</td>\n",
       "      <td>3.8</td>\n",
       "      <td>0.0</td>\n",
       "      <td>1.0</td>\n",
       "      <td>0.0</td>\n",
       "      <td>Nov</td>\n",
       "      <td>Fall</td>\n",
       "    </tr>\n",
       "    <tr>\n",
       "      <th>2074847</th>\n",
       "      <td>26/11/2010</td>\n",
       "      <td>20:47:00</td>\n",
       "      <td>0.910</td>\n",
       "      <td>0.000</td>\n",
       "      <td>238.71</td>\n",
       "      <td>3.8</td>\n",
       "      <td>0.0</td>\n",
       "      <td>1.0</td>\n",
       "      <td>0.0</td>\n",
       "      <td>Nov</td>\n",
       "      <td>Fall</td>\n",
       "    </tr>\n",
       "    <tr>\n",
       "      <th>2074848</th>\n",
       "      <td>26/11/2010</td>\n",
       "      <td>20:48:00</td>\n",
       "      <td>0.912</td>\n",
       "      <td>0.000</td>\n",
       "      <td>239.25</td>\n",
       "      <td>3.8</td>\n",
       "      <td>0.0</td>\n",
       "      <td>1.0</td>\n",
       "      <td>0.0</td>\n",
       "      <td>Nov</td>\n",
       "      <td>Fall</td>\n",
       "    </tr>\n",
       "    <tr>\n",
       "      <th>2074849</th>\n",
       "      <td>26/11/2010</td>\n",
       "      <td>20:49:00</td>\n",
       "      <td>0.948</td>\n",
       "      <td>0.000</td>\n",
       "      <td>238.16</td>\n",
       "      <td>4</td>\n",
       "      <td>0.0</td>\n",
       "      <td>1.0</td>\n",
       "      <td>0.0</td>\n",
       "      <td>Nov</td>\n",
       "      <td>Fall</td>\n",
       "    </tr>\n",
       "    <tr>\n",
       "      <th>2074850</th>\n",
       "      <td>26/11/2010</td>\n",
       "      <td>20:50:00</td>\n",
       "      <td>1.198</td>\n",
       "      <td>0.128</td>\n",
       "      <td>238.11</td>\n",
       "      <td>5</td>\n",
       "      <td>0.0</td>\n",
       "      <td>1.0</td>\n",
       "      <td>0.0</td>\n",
       "      <td>Nov</td>\n",
       "      <td>Fall</td>\n",
       "    </tr>\n",
       "    <tr>\n",
       "      <th>2074851</th>\n",
       "      <td>26/11/2010</td>\n",
       "      <td>20:51:00</td>\n",
       "      <td>1.024</td>\n",
       "      <td>0.106</td>\n",
       "      <td>238.84</td>\n",
       "      <td>4.2</td>\n",
       "      <td>0.0</td>\n",
       "      <td>1.0</td>\n",
       "      <td>0.0</td>\n",
       "      <td>Nov</td>\n",
       "      <td>Fall</td>\n",
       "    </tr>\n",
       "    <tr>\n",
       "      <th>2074852</th>\n",
       "      <td>26/11/2010</td>\n",
       "      <td>20:52:00</td>\n",
       "      <td>0.946</td>\n",
       "      <td>0.000</td>\n",
       "      <td>239.05</td>\n",
       "      <td>4</td>\n",
       "      <td>0.0</td>\n",
       "      <td>0.0</td>\n",
       "      <td>0.0</td>\n",
       "      <td>Nov</td>\n",
       "      <td>Fall</td>\n",
       "    </tr>\n",
       "    <tr>\n",
       "      <th>2074853</th>\n",
       "      <td>26/11/2010</td>\n",
       "      <td>20:53:00</td>\n",
       "      <td>0.944</td>\n",
       "      <td>0.000</td>\n",
       "      <td>238.72</td>\n",
       "      <td>4</td>\n",
       "      <td>0.0</td>\n",
       "      <td>0.0</td>\n",
       "      <td>0.0</td>\n",
       "      <td>Nov</td>\n",
       "      <td>Fall</td>\n",
       "    </tr>\n",
       "    <tr>\n",
       "      <th>2074854</th>\n",
       "      <td>26/11/2010</td>\n",
       "      <td>20:54:00</td>\n",
       "      <td>0.946</td>\n",
       "      <td>0.000</td>\n",
       "      <td>239.31</td>\n",
       "      <td>4</td>\n",
       "      <td>0.0</td>\n",
       "      <td>0.0</td>\n",
       "      <td>0.0</td>\n",
       "      <td>Nov</td>\n",
       "      <td>Fall</td>\n",
       "    </tr>\n",
       "    <tr>\n",
       "      <th>2074855</th>\n",
       "      <td>26/11/2010</td>\n",
       "      <td>20:55:00</td>\n",
       "      <td>0.946</td>\n",
       "      <td>0.000</td>\n",
       "      <td>239.74</td>\n",
       "      <td>4</td>\n",
       "      <td>0.0</td>\n",
       "      <td>0.0</td>\n",
       "      <td>0.0</td>\n",
       "      <td>Nov</td>\n",
       "      <td>Fall</td>\n",
       "    </tr>\n",
       "    <tr>\n",
       "      <th>2074856</th>\n",
       "      <td>26/11/2010</td>\n",
       "      <td>20:56:00</td>\n",
       "      <td>0.942</td>\n",
       "      <td>0.000</td>\n",
       "      <td>239.41</td>\n",
       "      <td>4</td>\n",
       "      <td>0.0</td>\n",
       "      <td>0.0</td>\n",
       "      <td>0.0</td>\n",
       "      <td>Nov</td>\n",
       "      <td>Fall</td>\n",
       "    </tr>\n",
       "    <tr>\n",
       "      <th>2074857</th>\n",
       "      <td>26/11/2010</td>\n",
       "      <td>20:57:00</td>\n",
       "      <td>0.946</td>\n",
       "      <td>0.000</td>\n",
       "      <td>240.33</td>\n",
       "      <td>4</td>\n",
       "      <td>0.0</td>\n",
       "      <td>0.0</td>\n",
       "      <td>0.0</td>\n",
       "      <td>Nov</td>\n",
       "      <td>Fall</td>\n",
       "    </tr>\n",
       "    <tr>\n",
       "      <th>2074858</th>\n",
       "      <td>26/11/2010</td>\n",
       "      <td>20:58:00</td>\n",
       "      <td>0.946</td>\n",
       "      <td>0.000</td>\n",
       "      <td>240.43</td>\n",
       "      <td>4</td>\n",
       "      <td>0.0</td>\n",
       "      <td>0.0</td>\n",
       "      <td>0.0</td>\n",
       "      <td>Nov</td>\n",
       "      <td>Fall</td>\n",
       "    </tr>\n",
       "    <tr>\n",
       "      <th>2074859</th>\n",
       "      <td>26/11/2010</td>\n",
       "      <td>20:59:00</td>\n",
       "      <td>0.944</td>\n",
       "      <td>0.000</td>\n",
       "      <td>240.00</td>\n",
       "      <td>4</td>\n",
       "      <td>0.0</td>\n",
       "      <td>0.0</td>\n",
       "      <td>0.0</td>\n",
       "      <td>Nov</td>\n",
       "      <td>Fall</td>\n",
       "    </tr>\n",
       "    <tr>\n",
       "      <th>2074860</th>\n",
       "      <td>26/11/2010</td>\n",
       "      <td>21:00:00</td>\n",
       "      <td>0.938</td>\n",
       "      <td>0.000</td>\n",
       "      <td>239.82</td>\n",
       "      <td>3.8</td>\n",
       "      <td>0.0</td>\n",
       "      <td>0.0</td>\n",
       "      <td>0.0</td>\n",
       "      <td>Nov</td>\n",
       "      <td>Fall</td>\n",
       "    </tr>\n",
       "    <tr>\n",
       "      <th>2074861</th>\n",
       "      <td>26/11/2010</td>\n",
       "      <td>21:01:00</td>\n",
       "      <td>0.934</td>\n",
       "      <td>0.000</td>\n",
       "      <td>239.70</td>\n",
       "      <td>3.8</td>\n",
       "      <td>0.0</td>\n",
       "      <td>0.0</td>\n",
       "      <td>0.0</td>\n",
       "      <td>Nov</td>\n",
       "      <td>Fall</td>\n",
       "    </tr>\n",
       "    <tr>\n",
       "      <th>2074862</th>\n",
       "      <td>26/11/2010</td>\n",
       "      <td>21:02:00</td>\n",
       "      <td>0.932</td>\n",
       "      <td>0.000</td>\n",
       "      <td>239.55</td>\n",
       "      <td>3.8</td>\n",
       "      <td>0.0</td>\n",
       "      <td>0.0</td>\n",
       "      <td>0.0</td>\n",
       "      <td>Nov</td>\n",
       "      <td>Fall</td>\n",
       "    </tr>\n",
       "  </tbody>\n",
       "</table>\n",
       "<p>2074863 rows × 11 columns</p>\n",
       "</div>"
      ],
      "text/plain": [
       "               Date      Time  Global_active_power  Global_reactive_power  \\\n",
       "Index                                                                       \n",
       "0        17/12/2006  00:00:00                1.044                  0.152   \n",
       "1        17/12/2006  00:01:00                1.520                  0.220   \n",
       "2        17/12/2006  00:02:00                3.038                  0.194   \n",
       "3        17/12/2006  00:03:00                2.974                  0.194   \n",
       "4        17/12/2006  00:04:00                2.846                  0.198   \n",
       "5        17/12/2006  00:05:00                2.848                  0.198   \n",
       "6        17/12/2006  00:06:00                2.858                  0.202   \n",
       "7        17/12/2006  00:07:00                2.472                  0.208   \n",
       "8        17/12/2006  00:08:00                0.658                  0.244   \n",
       "9        17/12/2006  00:09:00                0.838                  0.334   \n",
       "10       17/12/2006  00:10:00                2.608                  0.298   \n",
       "11       17/12/2006  00:11:00                2.598                  0.296   \n",
       "12       17/12/2006  00:12:00                2.560                  0.286   \n",
       "13       17/12/2006  00:13:00                2.526                  0.278   \n",
       "14       17/12/2006  00:14:00                2.472                  0.194   \n",
       "15       17/12/2006  00:15:00                1.658                  0.166   \n",
       "16       17/12/2006  00:16:00                0.422                  0.184   \n",
       "17       17/12/2006  00:17:00                0.790                  0.178   \n",
       "18       17/12/2006  00:18:00                2.436                  0.120   \n",
       "19       17/12/2006  00:19:00                2.396                  0.056   \n",
       "20       17/12/2006  00:20:00                2.338                  0.000   \n",
       "21       17/12/2006  00:21:00                2.304                  0.062   \n",
       "22       17/12/2006  00:22:00                0.276                  0.000   \n",
       "23       17/12/2006  00:23:00                0.712                  0.000   \n",
       "24       17/12/2006  00:24:00                2.332                  0.060   \n",
       "25       17/12/2006  00:25:00                2.344                  0.058   \n",
       "26       17/12/2006  00:26:00                2.354                  0.058   \n",
       "27       17/12/2006  00:27:00                2.332                  0.060   \n",
       "28       17/12/2006  00:28:00                2.368                  0.056   \n",
       "29       17/12/2006  00:29:00                0.612                  0.000   \n",
       "...             ...       ...                  ...                    ...   \n",
       "2074833  26/11/2010  20:33:00                0.978                  0.000   \n",
       "2074834  26/11/2010  20:34:00                0.968                  0.000   \n",
       "2074835  26/11/2010  20:35:00                0.960                  0.000   \n",
       "2074836  26/11/2010  20:36:00                0.964                  0.000   \n",
       "2074837  26/11/2010  20:37:00                0.980                  0.000   \n",
       "2074838  26/11/2010  20:38:00                0.976                  0.096   \n",
       "2074839  26/11/2010  20:39:00                0.984                  0.100   \n",
       "2074840  26/11/2010  20:40:00                0.986                  0.102   \n",
       "2074841  26/11/2010  20:41:00                0.990                  0.106   \n",
       "2074842  26/11/2010  20:42:00                0.988                  0.106   \n",
       "2074843  26/11/2010  20:43:00                0.988                  0.106   \n",
       "2074844  26/11/2010  20:44:00                0.982                  0.102   \n",
       "2074845  26/11/2010  20:45:00                0.972                  0.092   \n",
       "2074846  26/11/2010  20:46:00                0.908                  0.000   \n",
       "2074847  26/11/2010  20:47:00                0.910                  0.000   \n",
       "2074848  26/11/2010  20:48:00                0.912                  0.000   \n",
       "2074849  26/11/2010  20:49:00                0.948                  0.000   \n",
       "2074850  26/11/2010  20:50:00                1.198                  0.128   \n",
       "2074851  26/11/2010  20:51:00                1.024                  0.106   \n",
       "2074852  26/11/2010  20:52:00                0.946                  0.000   \n",
       "2074853  26/11/2010  20:53:00                0.944                  0.000   \n",
       "2074854  26/11/2010  20:54:00                0.946                  0.000   \n",
       "2074855  26/11/2010  20:55:00                0.946                  0.000   \n",
       "2074856  26/11/2010  20:56:00                0.942                  0.000   \n",
       "2074857  26/11/2010  20:57:00                0.946                  0.000   \n",
       "2074858  26/11/2010  20:58:00                0.946                  0.000   \n",
       "2074859  26/11/2010  20:59:00                0.944                  0.000   \n",
       "2074860  26/11/2010  21:00:00                0.938                  0.000   \n",
       "2074861  26/11/2010  21:01:00                0.934                  0.000   \n",
       "2074862  26/11/2010  21:02:00                0.932                  0.000   \n",
       "\n",
       "         Voltage Global_intensity  Sub_metering_1  Sub_metering_2  \\\n",
       "Index                                                               \n",
       "0         242.73            4.400             0.0             2.0   \n",
       "1         242.20            7.400             0.0             1.0   \n",
       "2         240.14           12.600             0.0             2.0   \n",
       "3         239.97           12.400             0.0             1.0   \n",
       "4         240.39           11.800             0.0             2.0   \n",
       "5         240.59           11.800             0.0             1.0   \n",
       "6         241.14           11.800             0.0             1.0   \n",
       "7         241.62           10.800             0.0             2.0   \n",
       "8         243.75            3.000             0.0             1.0   \n",
       "9         242.09            4.800             0.0             2.0   \n",
       "10        239.45           10.800             0.0             1.0   \n",
       "11        239.44           10.800             0.0             1.0   \n",
       "12        238.71           10.800             0.0             2.0   \n",
       "13        236.95           10.600             0.0             1.0   \n",
       "14        237.55           10.400             0.0             1.0   \n",
       "15        238.48            8.000             0.0             1.0   \n",
       "16        239.79            1.800             0.0             2.0   \n",
       "17        239.47            4.600             0.0             1.0   \n",
       "18        238.51           10.200             0.0             1.0   \n",
       "19        239.03           10.000             0.0             1.0   \n",
       "20        238.37            9.800             0.0             1.0   \n",
       "21        238.38            9.600             0.0             0.0   \n",
       "22        240.56            1.200             0.0             0.0   \n",
       "23        239.84            4.600             0.0             0.0   \n",
       "24        239.11            9.600             0.0             0.0   \n",
       "25        239.99            9.600             0.0             0.0   \n",
       "26        240.64            9.800             0.0             0.0   \n",
       "27        239.45            9.600             0.0             0.0   \n",
       "28        241.40            9.800             0.0             0.0   \n",
       "29        243.68            4.000             0.0             0.0   \n",
       "...          ...              ...             ...             ...   \n",
       "2074833   240.28                4             0.0             1.0   \n",
       "2074834   237.57                4             0.0             1.0   \n",
       "2074835   238.01                4             0.0             1.0   \n",
       "2074836   238.07                4             0.0             1.0   \n",
       "2074837   237.90              4.2             0.0             1.0   \n",
       "2074838   236.97                4             0.0             2.0   \n",
       "2074839   238.16              4.2             0.0             1.0   \n",
       "2074840   238.92              4.2             0.0             1.0   \n",
       "2074841   239.57              4.2             0.0             1.0   \n",
       "2074842   239.60              4.2             0.0             1.0   \n",
       "2074843   239.64              4.2             0.0             1.0   \n",
       "2074844   238.69                4             0.0             1.0   \n",
       "2074845   238.32                4             0.0             2.0   \n",
       "2074846   238.53              3.8             0.0             1.0   \n",
       "2074847   238.71              3.8             0.0             1.0   \n",
       "2074848   239.25              3.8             0.0             1.0   \n",
       "2074849   238.16                4             0.0             1.0   \n",
       "2074850   238.11                5             0.0             1.0   \n",
       "2074851   238.84              4.2             0.0             1.0   \n",
       "2074852   239.05                4             0.0             0.0   \n",
       "2074853   238.72                4             0.0             0.0   \n",
       "2074854   239.31                4             0.0             0.0   \n",
       "2074855   239.74                4             0.0             0.0   \n",
       "2074856   239.41                4             0.0             0.0   \n",
       "2074857   240.33                4             0.0             0.0   \n",
       "2074858   240.43                4             0.0             0.0   \n",
       "2074859   240.00                4             0.0             0.0   \n",
       "2074860   239.82              3.8             0.0             0.0   \n",
       "2074861   239.70              3.8             0.0             0.0   \n",
       "2074862   239.55              3.8             0.0             0.0   \n",
       "\n",
       "         Sub_metering_3 Month  Season  \n",
       "Index                                  \n",
       "0                   0.0   Dec  Winter  \n",
       "1                   0.0   Dec  Winter  \n",
       "2                   0.0   Dec  Winter  \n",
       "3                   0.0   Dec  Winter  \n",
       "4                   0.0   Dec  Winter  \n",
       "5                   0.0   Dec  Winter  \n",
       "6                   0.0   Dec  Winter  \n",
       "7                   0.0   Dec  Winter  \n",
       "8                   0.0   Dec  Winter  \n",
       "9                   0.0   Dec  Winter  \n",
       "10                  0.0   Dec  Winter  \n",
       "11                  0.0   Dec  Winter  \n",
       "12                  0.0   Dec  Winter  \n",
       "13                  0.0   Dec  Winter  \n",
       "14                  0.0   Dec  Winter  \n",
       "15                  0.0   Dec  Winter  \n",
       "16                  0.0   Dec  Winter  \n",
       "17                  0.0   Dec  Winter  \n",
       "18                  0.0   Dec  Winter  \n",
       "19                  0.0   Dec  Winter  \n",
       "20                  0.0   Dec  Winter  \n",
       "21                  0.0   Dec  Winter  \n",
       "22                  0.0   Dec  Winter  \n",
       "23                  0.0   Dec  Winter  \n",
       "24                  0.0   Dec  Winter  \n",
       "25                  0.0   Dec  Winter  \n",
       "26                  0.0   Dec  Winter  \n",
       "27                  0.0   Dec  Winter  \n",
       "28                  0.0   Dec  Winter  \n",
       "29                  0.0   Dec  Winter  \n",
       "...                 ...   ...     ...  \n",
       "2074833             0.0   Nov    Fall  \n",
       "2074834             0.0   Nov    Fall  \n",
       "2074835             0.0   Nov    Fall  \n",
       "2074836             0.0   Nov    Fall  \n",
       "2074837             0.0   Nov    Fall  \n",
       "2074838             0.0   Nov    Fall  \n",
       "2074839             0.0   Nov    Fall  \n",
       "2074840             0.0   Nov    Fall  \n",
       "2074841             0.0   Nov    Fall  \n",
       "2074842             0.0   Nov    Fall  \n",
       "2074843             0.0   Nov    Fall  \n",
       "2074844             0.0   Nov    Fall  \n",
       "2074845             0.0   Nov    Fall  \n",
       "2074846             0.0   Nov    Fall  \n",
       "2074847             0.0   Nov    Fall  \n",
       "2074848             0.0   Nov    Fall  \n",
       "2074849             0.0   Nov    Fall  \n",
       "2074850             0.0   Nov    Fall  \n",
       "2074851             0.0   Nov    Fall  \n",
       "2074852             0.0   Nov    Fall  \n",
       "2074853             0.0   Nov    Fall  \n",
       "2074854             0.0   Nov    Fall  \n",
       "2074855             0.0   Nov    Fall  \n",
       "2074856             0.0   Nov    Fall  \n",
       "2074857             0.0   Nov    Fall  \n",
       "2074858             0.0   Nov    Fall  \n",
       "2074859             0.0   Nov    Fall  \n",
       "2074860             0.0   Nov    Fall  \n",
       "2074861             0.0   Nov    Fall  \n",
       "2074862             0.0   Nov    Fall  \n",
       "\n",
       "[2074863 rows x 11 columns]"
      ]
     },
     "execution_count": 26,
     "metadata": {},
     "output_type": "execute_result"
    }
   ],
   "source": [
    "df = df[df['Date']!='16/12/2006']\n",
    "df.head()\n",
    "df['Index'] = np.arange(len(df['Date']))\n",
    "df.set_index('Index')"
   ]
  },
  {
   "cell_type": "code",
   "execution_count": 27,
   "metadata": {},
   "outputs": [
    {
     "data": {
      "text/plain": [
       "count    496800.000000\n",
       "mean          1.417840\n",
       "std           1.207055\n",
       "min           0.194000\n",
       "25%           0.370000\n",
       "50%           1.348000\n",
       "75%           1.946000\n",
       "max          11.122000\n",
       "Name: Global_active_power, dtype: float64"
      ]
     },
     "execution_count": 27,
     "metadata": {},
     "output_type": "execute_result"
    },
    {
     "data": {
      "image/png": "[encoded data removed]",
      "text/plain": [
       "<Figure size 432x288 with 1 Axes>"
      ]
     },
     "metadata": {
      "needs_background": "light"
     },
     "output_type": "display_data"
    }
   ],
   "source": [
    "plt.plot(df[df['Season']=='Winter']['Global_active_power'].values)\n",
    "df[df['Season']=='Winter']['Global_active_power'].describe()"
   ]
  },
  {
   "cell_type": "code",
   "execution_count": 28,
   "metadata": {},
   "outputs": [
    {
     "data": {
      "text/plain": [
       "[<matplotlib.lines.Line2D at 0x20b06bb1ac8>]"
      ]
     },
     "execution_count": 28,
     "metadata": {},
     "output_type": "execute_result"
    },
    {
     "data": {
      "image/png": "[encoded data removed]",
      "text/plain": [
       "<Figure size 432x288 with 1 Axes>"
      ]
     },
     "metadata": {
      "needs_background": "light"
     },
     "output_type": "display_data"
    }
   ],
   "source": [
    "plt.plot(df[df['Season']=='Summer']['Global_active_power'].values)\n",
    "df[df['Season']=='Summer']['Global_active_power'].describe()"
   ]
  },
  {
   "cell_type": "code",
   "execution_count": 29,
   "metadata": {},
   "outputs": [
    {
     "data": {
      "text/plain": [
       "[<matplotlib.lines.Line2D at 0x20b4e36b6a0>]"
      ]
     },
     "execution_count": 29,
     "metadata": {},
     "output_type": "execute_result"
    },
    {
     "data": {
      "image/png": "[encoded data removed]",
      "text/plain": [
       "<Figure size 432x288 with 1 Axes>"
      ]
     },
     "metadata": {
      "needs_background": "light"
     },
     "output_type": "display_data"
    }
   ],
   "source": [
    "plt.plot(df[df['Season']=='Fall']['Global_active_power'].values)\n",
    "df[df['Season']=='Fall']['Global_active_power'].describe()"
   ]
  },
  {
   "cell_type": "code",
   "execution_count": 30,
   "metadata": {
    "scrolled": true
   },
   "outputs": [
    {
     "data": {
      "text/plain": [
       "[<matplotlib.lines.Line2D at 0x20b721e9908>]"
      ]
     },
     "execution_count": 30,
     "metadata": {},
     "output_type": "execute_result"
    },
    {
     "data": {
      "image/png": "[encoded data removed]",
      "text/plain": [
       "<Figure size 432x288 with 1 Axes>"
      ]
     },
     "metadata": {
      "needs_background": "light"
     },
     "output_type": "display_data"
    }
   ],
   "source": [
    "plt.plot(df[df['Season']=='Spring']['Global_active_power'].values)\n",
    "df[df['Season']=='Spring']['Global_active_power'].describe()"
   ]
  },
  {
   "cell_type": "code",
   "execution_count": 31,
   "metadata": {},
   "outputs": [
    {
     "data": {
      "text/plain": [
       "[<matplotlib.lines.Line2D at 0x20b0702acc0>]"
      ]
     },
     "execution_count": 31,
     "metadata": {},
     "output_type": "execute_result"
    },
    {
     "data": {
      "image/png": "[encoded data removed]",
      "text/plain": [
       "<Figure size 432x288 with 1 Axes>"
      ]
     },
     "metadata": {
      "needs_background": "light"
     },
     "output_type": "display_data"
    }
   ],
   "source": [
    "plt.plot(np.arange(95000,110000),df[df['Season']=='Winter']['Global_active_power'][95000:110000].values)"
   ]
  },
  {
   "cell_type": "code",
   "execution_count": 32,
   "metadata": {},
   "outputs": [
    {
     "data": {
      "text/plain": [
       "[<matplotlib.lines.Line2D at 0x20b03f34588>]"
      ]
     },
     "execution_count": 32,
     "metadata": {},
     "output_type": "execute_result"
    },
    {
     "data": {
      "image/png": "[encoded data removed]",
      "text/plain": [
       "<Figure size 432x288 with 1 Axes>"
      ]
     },
     "metadata": {
      "needs_background": "light"
     },
     "output_type": "display_data"
    }
   ],
   "source": [
    "plt.plot(np.arange(99200,102000),df[df['Season']=='Winter']['Global_active_power'][99200:102000].values)"
   ]
  },
  {
   "cell_type": "code",
   "execution_count": 33,
   "metadata": {},
   "outputs": [],
   "source": [
    "WinRefRange = (107000,237200)"
   ]
  },
  {
   "cell_type": "code",
   "execution_count": 34,
   "metadata": {},
   "outputs": [
    {
     "data": {
      "text/plain": [
       "[<matplotlib.lines.Line2D at 0x20b0437a780>]"
      ]
     },
     "execution_count": 34,
     "metadata": {},
     "output_type": "execute_result"
    },
    {
     "data": {
      "image/png": "[encoded data removed]",
      "text/plain": [
       "<Figure size 432x288 with 1 Axes>"
      ]
     },
     "metadata": {
      "needs_background": "light"
     },
     "output_type": "display_data"
    }
   ],
   "source": [
    "plt.plot(np.arange(236000,238200),df[df['Season']=='Winter']['Global_active_power'][236000:238200].values)"
   ]
  },
  {
   "cell_type": "code",
   "execution_count": 35,
   "metadata": {},
   "outputs": [],
   "source": [
    "Maxx = (WinRefRange[1] - WinRefRange[0])"
   ]
  },
  {
   "cell_type": "markdown",
   "metadata": {},
   "source": [
    "## Winter Wavelet"
   ]
  },
  {
   "cell_type": "code",
   "execution_count": 36,
   "metadata": {},
   "outputs": [
    {
     "data": {
      "image/png": "[encoded data removed]",
      "text/plain": [
       "<Figure size 432x288 with 1 Axes>"
      ]
     },
     "metadata": {
      "needs_background": "light"
     },
     "output_type": "display_data"
    }
   ],
   "source": [
    "plt.plot(np.arange(107000,237200),df[df['Season']=='Winter']['Global_active_power'][107000:237200].values)\n",
    "WinW = df[df['Season']=='Winter']['Global_active_power'][107000:237200].values"
   ]
  },
  {
   "cell_type": "code",
   "execution_count": 37,
   "metadata": {},
   "outputs": [],
   "source": [
    "wRef = np.array(list(WinW)*3)"
   ]
  },
  {
   "cell_type": "code",
   "execution_count": 38,
   "metadata": {},
   "outputs": [
    {
     "data": {
      "text/plain": [
       "array([0.214, 0.214, 0.216, ..., 0.632, 0.67 , 0.65 ])"
      ]
     },
     "execution_count": 38,
     "metadata": {},
     "output_type": "execute_result"
    }
   ],
   "source": [
    "wRef"
   ]
  },
  {
   "cell_type": "code",
   "execution_count": 39,
   "metadata": {},
   "outputs": [
    {
     "data": {
      "text/plain": [
       "1.300032555043523"
      ]
     },
     "execution_count": 39,
     "metadata": {},
     "output_type": "execute_result"
    },
    {
     "data": {
      "image/png": "[encoded data removed]",
      "text/plain": [
       "<Figure size 432x288 with 1 Axes>"
      ]
     },
     "metadata": {
      "needs_background": "light"
     },
     "output_type": "display_data"
    }
   ],
   "source": [
    "plt.plot(abs(wRef - df[df['Season']=='Winter']['Global_active_power'][:len(wRef)].values))\n",
    "np.mean(abs(wRef - df[df['Season']=='Winter']['Global_active_power'][:len(wRef)].values))"
   ]
  },
  {
   "cell_type": "code",
   "execution_count": null,
   "metadata": {},
   "outputs": [],
   "source": []
  },
  {
   "cell_type": "code",
   "execution_count": null,
   "metadata": {},
   "outputs": [],
   "source": []
  },
  {
   "cell_type": "code",
   "execution_count": null,
   "metadata": {},
   "outputs": [],
   "source": []
  },
  {
   "cell_type": "markdown",
   "metadata": {},
   "source": [
    "### Plot usage for particluar days in Winter"
   ]
  },
  {
   "cell_type": "code",
   "execution_count": 43,
   "metadata": {},
   "outputs": [
    {
     "data": {
      "text/plain": [
       "[<matplotlib.lines.Line2D at 0x20b06adcf98>]"
      ]
     },
     "execution_count": 43,
     "metadata": {},
     "output_type": "execute_result"
    },
    {
     "data": {
      "image/png": "[encoded data removed]",
      "text/plain": [
       "<Figure size 432x288 with 1 Axes>"
      ]
     },
     "metadata": {
      "needs_background": "light"
     },
     "output_type": "display_data"
    }
   ],
   "source": [
    "plt.plot(df[df['Season']=='Winter']['Global_active_power'][0:1440].values)"
   ]
  },
  {
   "cell_type": "code",
   "execution_count": 44,
   "metadata": {},
   "outputs": [
    {
     "data": {
      "text/plain": [
       "[<matplotlib.lines.Line2D at 0x20b06b48550>]"
      ]
     },
     "execution_count": 44,
     "metadata": {},
     "output_type": "execute_result"
    },
    {
     "data": {
      "image/png": "[encoded data removed]",
      "text/plain": [
       "<Figure size 432x288 with 1 Axes>"
      ]
     },
     "metadata": {
      "needs_background": "light"
     },
     "output_type": "display_data"
    }
   ],
   "source": [
    "plt.plot(df[df['Season']=='Winter']['Global_active_power'][1440:2*1440].values)"
   ]
  },
  {
   "cell_type": "code",
   "execution_count": 45,
   "metadata": {},
   "outputs": [
    {
     "data": {
      "text/plain": [
       "[<matplotlib.lines.Line2D at 0x20b06f87630>]"
      ]
     },
     "execution_count": 45,
     "metadata": {},
     "output_type": "execute_result"
    },
    {
     "data": {
      "image/png": "[encoded data removed]",
      "text/plain": [
       "<Figure size 432x288 with 1 Axes>"
      ]
     },
     "metadata": {
      "needs_background": "light"
     },
     "output_type": "display_data"
    }
   ],
   "source": [
    "plt.plot(df[df['Season']=='Winter']['Global_active_power'][2*1440:3*1440].values)"
   ]
  },
  {
   "cell_type": "code",
   "execution_count": 47,
   "metadata": {},
   "outputs": [],
   "source": [
    "# Number of Winter Days\n",
    "WnDays = 496800/1440"
   ]
  },
  {
   "cell_type": "code",
   "execution_count": 48,
   "metadata": {},
   "outputs": [],
   "source": [
    "Comm = np.array([np.mean(abs(df[df['Season']=='Winter']['Global_active_power'][i*1440:(i+1)*1440].values - df[df['Season']=='Winter']['Global_active_power'][0:1440].values)) for i in range(344)])"
   ]
  },
  {
   "cell_type": "code",
   "execution_count": 49,
   "metadata": {},
   "outputs": [
    {
     "data": {
      "text/plain": [
       "[<matplotlib.lines.Line2D at 0x20b040b72b0>]"
      ]
     },
     "execution_count": 49,
     "metadata": {},
     "output_type": "execute_result"
    },
    {
     "data": {
      "image/png": "[encoded data removed]",
      "text/plain": [
       "<Figure size 432x288 with 1 Axes>"
      ]
     },
     "metadata": {
      "needs_background": "light"
     },
     "output_type": "display_data"
    }
   ],
   "source": [
    "plt.plot(Comm)"
   ]
  },
  {
   "cell_type": "code",
   "execution_count": 74,
   "metadata": {},
   "outputs": [
    {
     "data": {
      "text/plain": [
       "1.4634804586563308"
      ]
     },
     "execution_count": 74,
     "metadata": {},
     "output_type": "execute_result"
    }
   ],
   "source": [
    "np.mean(Comm)"
   ]
  },
  {
   "cell_type": "code",
   "execution_count": null,
   "metadata": {},
   "outputs": [],
   "source": [
    "for j in range(364):\n",
    "    Comm = np.array([np.mean(abs(df[df['Season']=='Winter']['Global_active_power'][i*1440:(i+1)*1440].values - df[df['Season']=='Winter']['Global_active_power'][j*1440:(j+1)*1440].values)) for i in range(344)])\n",
    "    C.append(np.mean(Comm))"
   ]
  },
  {
   "cell_type": "code",
   "execution_count": 54,
   "metadata": {},
   "outputs": [
    {
     "data": {
      "text/plain": [
       "array([2.01397222, 2.024125  , 2.02560278, 2.02797361, 2.02860833])"
      ]
     },
     "execution_count": 54,
     "metadata": {},
     "output_type": "execute_result"
    }
   ],
   "source": [
    "np.sort(Comm)[-5:]"
   ]
  },
  {
   "cell_type": "code",
   "execution_count": null,
   "metadata": {},
   "outputs": [],
   "source": [
    "np.where()"
   ]
  },
  {
   "cell_type": "code",
   "execution_count": 57,
   "metadata": {},
   "outputs": [],
   "source": [
    "for i in np.sort(Comm)[-5:]:\n",
    "    for j in range(len(Comm)):\n",
    "        if(i==Comm[j]):\n",
    "            C.append([j,i])"
   ]
  },
  {
   "cell_type": "code",
   "execution_count": 66,
   "metadata": {},
   "outputs": [],
   "source": [
    "D = [x[0] for x in C]\n",
    "D\n",
    "U = []"
   ]
  },
  {
   "cell_type": "code",
   "execution_count": 70,
   "metadata": {},
   "outputs": [],
   "source": [
    "for i in D:\n",
    "    i = int(i)\n",
    "    U.append(np.array([np.mean(abs(df[df['Season']=='Winter']['Global_active_power'][i*1440:(i+1)*1440].values - df[df['Season']=='Winter']['Global_active_power'][j*1440:(j+1)*1440].values)) for j in range(344)]))"
   ]
  },
  {
   "cell_type": "code",
   "execution_count": 84,
   "metadata": {},
   "outputs": [
    {
     "data": {
      "text/plain": [
       "[1.1024727390180877,\n",
       " 1.1734137031653746,\n",
       " 1.162137701873385,\n",
       " 1.1102966650516797,\n",
       " 1.1697240633074935]"
      ]
     },
     "execution_count": 84,
     "metadata": {},
     "output_type": "execute_result"
    }
   ],
   "source": [
    "WW = [np.mean(i) for i in U]\n",
    "WW"
   ]
  },
  {
   "cell_type": "code",
   "execution_count": 76,
   "metadata": {},
   "outputs": [
    {
     "data": {
      "text/plain": [
       "(0, 1.1024727390180877)"
      ]
     },
     "execution_count": 76,
     "metadata": {},
     "output_type": "execute_result"
    }
   ],
   "source": [
    "np.argmin(WW),np.min(WW) "
   ]
  },
  {
   "cell_type": "code",
   "execution_count": 78,
   "metadata": {},
   "outputs": [
    {
     "data": {
      "text/plain": [
       "[163.0, 160.0, 70.0, 73.0, 161.0]"
      ]
     },
     "execution_count": 78,
     "metadata": {},
     "output_type": "execute_result"
    }
   ],
   "source": [
    "D"
   ]
  },
  {
   "cell_type": "code",
   "execution_count": 79,
   "metadata": {},
   "outputs": [
    {
     "data": {
      "text/plain": [
       "[<matplotlib.lines.Line2D at 0x20b04230cf8>]"
      ]
     },
     "execution_count": 79,
     "metadata": {},
     "output_type": "execute_result"
    },
    {
     "data": {
      "image/png": "[encoded data removed]",
      "text/plain": [
       "<Figure size 432x288 with 1 Axes>"
      ]
     },
     "metadata": {
      "needs_background": "light"
     },
     "output_type": "display_data"
    }
   ],
   "source": [
    "plt.plot(U[0])"
   ]
  },
  {
   "cell_type": "code",
   "execution_count": 80,
   "metadata": {},
   "outputs": [
    {
     "data": {
      "text/plain": [
       "[<matplotlib.lines.Line2D at 0x20b0429c6a0>]"
      ]
     },
     "execution_count": 80,
     "metadata": {},
     "output_type": "execute_result"
    },
    {
     "data": {
      "image/png": "[encoded data removed]",
      "text/plain": [
       "<Figure size 432x288 with 1 Axes>"
      ]
     },
     "metadata": {
      "needs_background": "light"
     },
     "output_type": "display_data"
    }
   ],
   "source": [
    "plt.plot(U[1])"
   ]
  },
  {
   "cell_type": "code",
   "execution_count": 81,
   "metadata": {},
   "outputs": [
    {
     "data": {
      "text/plain": [
       "[<matplotlib.lines.Line2D at 0x20b042ff0b8>]"
      ]
     },
     "execution_count": 81,
     "metadata": {},
     "output_type": "execute_result"
    },
    {
     "data": {
      "image/png": "[encoded data removed]",
      "text/plain": [
       "<Figure size 432x288 with 1 Axes>"
      ]
     },
     "metadata": {
      "needs_background": "light"
     },
     "output_type": "display_data"
    }
   ],
   "source": [
    "plt.plot(U[2])"
   ]
  },
  {
   "cell_type": "code",
   "execution_count": 82,
   "metadata": {},
   "outputs": [
    {
     "data": {
      "text/plain": [
       "[<matplotlib.lines.Line2D at 0x20b05e30198>]"
      ]
     },
     "execution_count": 82,
     "metadata": {},
     "output_type": "execute_result"
    },
    {
     "data": {
      "image/png": "[encoded data removed]",
      "text/plain": [
       "<Figure size 432x288 with 1 Axes>"
      ]
     },
     "metadata": {
      "needs_background": "light"
     },
     "output_type": "display_data"
    }
   ],
   "source": [
    "plt.plot(U[3])"
   ]
  },
  {
   "cell_type": "code",
   "execution_count": 83,
   "metadata": {},
   "outputs": [
    {
     "data": {
      "text/plain": [
       "[<matplotlib.lines.Line2D at 0x20b05e8d390>]"
      ]
     },
     "execution_count": 83,
     "metadata": {},
     "output_type": "execute_result"
    },
    {
     "data": {
      "image/png": "[encoded data removed]",
      "text/plain": [
       "<Figure size 432x288 with 1 Axes>"
      ]
     },
     "metadata": {
      "needs_background": "light"
     },
     "output_type": "display_data"
    }
   ],
   "source": [
    "plt.plot(U[4])"
   ]
  },
  {
   "cell_type": "code",
   "execution_count": 85,
   "metadata": {},
   "outputs": [
    {
     "data": {
      "text/plain": [
       "6"
      ]
     },
     "execution_count": 85,
     "metadata": {},
     "output_type": "execute_result"
    }
   ],
   "source": [
    "np.argmax(U[4])"
   ]
  },
  {
   "cell_type": "code",
   "execution_count": 86,
   "metadata": {},
   "outputs": [],
   "source": [
    "EE = np.array([np.mean(abs(df[df['Season']=='Winter']['Global_active_power'][6*1440:(6+1)*1440].values - df[df['Season']=='Winter']['Global_active_power'][j*1440:(j+1)*1440].values)) for j in range(344)])"
   ]
  },
  {
   "cell_type": "code",
   "execution_count": 87,
   "metadata": {},
   "outputs": [
    {
     "data": {
      "text/plain": [
       "[<matplotlib.lines.Line2D at 0x20b05efaf60>]"
      ]
     },
     "execution_count": 87,
     "metadata": {},
     "output_type": "execute_result"
    },
    {
     "data": {
      "image/png": "[encoded data removed]",
      "text/plain": [
       "<Figure size 432x288 with 1 Axes>"
      ]
     },
     "metadata": {
      "needs_background": "light"
     },
     "output_type": "display_data"
    }
   ],
   "source": [
    "plt.plot(EE)"
   ]
  },
  {
   "cell_type": "code",
   "execution_count": 88,
   "metadata": {},
   "outputs": [
    {
     "data": {
      "text/plain": [
       "2.1151087370801034"
      ]
     },
     "execution_count": 88,
     "metadata": {},
     "output_type": "execute_result"
    }
   ],
   "source": [
    "np.mean(EE)"
   ]
  },
  {
   "cell_type": "code",
   "execution_count": 286,
   "metadata": {},
   "outputs": [],
   "source": [
    "W = np.ones(5)"
   ]
  },
  {
   "cell_type": "code",
   "execution_count": 99,
   "metadata": {},
   "outputs": [],
   "source": [
    "O = torch.tensor(W.reshape(-1,1))"
   ]
  },
  {
   "cell_type": "code",
   "execution_count": 95,
   "metadata": {},
   "outputs": [],
   "source": [
    "Ut = torch.tensor(U)"
   ]
  },
  {
   "cell_type": "code",
   "execution_count": 112,
   "metadata": {},
   "outputs": [
    {
     "data": {
      "text/plain": [
       "torch.Size([5, 344])"
      ]
     },
     "execution_count": 112,
     "metadata": {},
     "output_type": "execute_result"
    }
   ],
   "source": [
    "Ut.shape"
   ]
  },
  {
   "cell_type": "code",
   "execution_count": 114,
   "metadata": {},
   "outputs": [
    {
     "data": {
      "text/plain": [
       "tensor([[1., 1., 1., 1., 1.]])"
      ]
     },
     "execution_count": 114,
     "metadata": {},
     "output_type": "execute_result"
    }
   ],
   "source": [
    "O.reshape(1,5)"
   ]
  },
  {
   "cell_type": "code",
   "execution_count": 117,
   "metadata": {},
   "outputs": [],
   "source": [
    "Ut1 = Ut"
   ]
  },
  {
   "cell_type": "code",
   "execution_count": 129,
   "metadata": {},
   "outputs": [
    {
     "data": {
      "text/plain": [
       "tensor([[2.0140, 1.1902, 0.8362,  ..., 0.9696, 1.1688, 0.9195],\n",
       "        [2.0241, 1.2672, 0.9001,  ..., 1.0346, 1.2296, 0.9559],\n",
       "        [2.0256, 1.2619, 0.9629,  ..., 1.0249, 1.1393, 0.9518],\n",
       "        [2.0280, 1.2057, 0.8479,  ..., 0.9517, 1.1592, 0.9391],\n",
       "        [2.0286, 1.2743, 0.9868,  ..., 1.0220, 1.2018, 0.9572]],\n",
       "       dtype=torch.float64)"
      ]
     },
     "execution_count": 129,
     "metadata": {},
     "output_type": "execute_result"
    }
   ],
   "source": [
    "Ut1.reshape(5,344)"
   ]
  },
  {
   "cell_type": "code",
   "execution_count": 272,
   "metadata": {},
   "outputs": [],
   "source": [
    "def Mul(x,y):\n",
    "    E = []\n",
    "    for i in range(5):\n",
    "        E.append(x[i]*y[i])\n",
    "    return E"
   ]
  },
  {
   "cell_type": "code",
   "execution_count": 267,
   "metadata": {},
   "outputs": [],
   "source": [
    "W= np.ones(5)"
   ]
  },
  {
   "cell_type": "code",
   "execution_count": 277,
   "metadata": {},
   "outputs": [],
   "source": [
    "alpha = 0.1 \n",
    "epochs = 20\n",
    "errors = []"
   ]
  },
  {
   "cell_type": "code",
   "execution_count": 291,
   "metadata": {},
   "outputs": [],
   "source": [
    "for epoch in range(epochs):\n",
    "    Error = []\n",
    "    Vec =  Mul(W,np.array(Vec))\n",
    "    for q in range(5):\n",
    "        Error.append(np.mean(np.array([np.mean(np.abs(np.array(Vec)[q] - np.array(WinData)[k*1440:(k+1)*1440])) for k in range(344)])))\n",
    "    W = W - W*Error*alpha"
   ]
  },
  {
   "cell_type": "code",
   "execution_count": 256,
   "metadata": {},
   "outputs": [],
   "source": [
    "WinData = torch.DoubleTensor(df[df['Season']=='Winter']['Global_active_power'].values)"
   ]
  },
  {
   "cell_type": "code",
   "execution_count": 288,
   "metadata": {},
   "outputs": [
    {
     "data": {
      "text/plain": [
       "array([47663962.79430553, 47663962.79430553, 47663962.79430553,\n",
       "       47663962.79430553, 47663962.79430553])"
      ]
     },
     "execution_count": 288,
     "metadata": {},
     "output_type": "execute_result"
    }
   ],
   "source": [
    "W"
   ]
  },
  {
   "cell_type": "code",
   "execution_count": 289,
   "metadata": {},
   "outputs": [
    {
     "data": {
      "text/plain": [
       "[array([0., 0., 0., ..., 0., 0., 0.]),\n",
       " array([0., 0., 0., ..., 0., 0., 0.]),\n",
       " array([0., 0., 0., ..., 0., 0., 0.]),\n",
       " array([0., 0., 0., ..., 0., 0., 0.]),\n",
       " array([0., 0., 0., ..., 0., 0., 0.])]"
      ]
     },
     "execution_count": 289,
     "metadata": {},
     "output_type": "execute_result"
    }
   ],
   "source": [
    "Vec"
   ]
  },
  {
   "cell_type": "code",
   "execution_count": 290,
   "metadata": {},
   "outputs": [
    {
     "data": {
      "text/plain": [
       "[1.420524636627907,\n",
       " 1.420524636627907,\n",
       " 1.420524636627907,\n",
       " 1.420524636627907,\n",
       " 1.420524636627907]"
      ]
     },
     "execution_count": 290,
     "metadata": {},
     "output_type": "execute_result"
    }
   ],
   "source": [
    "Error"
   ]
  },
  {
   "cell_type": "code",
   "execution_count": 181,
   "metadata": {},
   "outputs": [
    {
     "data": {
      "text/plain": [
       "[163.0, 160.0, 70.0, 73.0, 161.0]"
      ]
     },
     "execution_count": 181,
     "metadata": {},
     "output_type": "execute_result"
    }
   ],
   "source": [
    "    Weights = Weights * torch.DoubleTensor(Error) * torch.tensor(alpha)"
   ]
  },
  {
   "cell_type": "code",
   "execution_count": 184,
   "metadata": {},
   "outputs": [],
   "source": [
    "Vec = torch.tensor([ df[df['Season']=='Winter']['Global_active_power'].values[int(i)*1440:(int(i)+1)*1440] for i in D  ])"
   ]
  },
  {
   "cell_type": "code",
   "execution_count": 185,
   "metadata": {},
   "outputs": [
    {
     "data": {
      "text/plain": [
       "tensor([[0.2140, 0.2160, 0.2160,  ..., 0.2940, 0.2980, 0.2980],\n",
       "        [0.2200, 0.2200, 0.2200,  ..., 0.2880, 0.2880, 0.2880],\n",
       "        [0.3200, 0.3200, 0.3180,  ..., 0.4200, 0.4160, 0.4140],\n",
       "        [0.4040, 0.4020, 0.3100,  ..., 0.2300, 0.2280, 0.2260],\n",
       "        [0.2900, 0.2900, 0.2900,  ..., 0.2120, 0.2100, 0.2120]],\n",
       "       dtype=torch.float64)"
      ]
     },
     "execution_count": 185,
     "metadata": {},
     "output_type": "execute_result"
    }
   ],
   "source": [
    "Vec"
   ]
  },
  {
   "cell_type": "code",
   "execution_count": 196,
   "metadata": {},
   "outputs": [],
   "source": [
    "Weights = Weights * 5"
   ]
  },
  {
   "cell_type": "code",
   "execution_count": 195,
   "metadata": {},
   "outputs": [
    {
     "data": {
      "text/plain": [
       "tensor([0.4040, 0.0720, 1.6840,  ..., 1.1700, 1.1660, 1.1620],\n",
       "       dtype=torch.float64)"
      ]
     },
     "execution_count": 195,
     "metadata": {},
     "output_type": "execute_result"
    }
   ],
   "source": [
    "torch.abs((Mul(Weights,Vec) - WinData[0*1440:(1)*1440]))"
   ]
  },
  {
   "cell_type": "code",
   "execution_count": 199,
   "metadata": {},
   "outputs": [],
   "source": [
    "Error = torch.DoubleTensor(Error)"
   ]
  },
  {
   "cell_type": "code",
   "execution_count": 229,
   "metadata": {},
   "outputs": [
    {
     "data": {
      "text/plain": [
       "tensor([0.2140, 0.2160, 0.2160,  ..., 0.2940, 0.2980, 0.2980],\n",
       "       dtype=torch.float64)"
      ]
     },
     "execution_count": 229,
     "metadata": {},
     "output_type": "execute_result"
    }
   ],
   "source": [
    "Vec[0]"
   ]
  },
  {
   "cell_type": "code",
   "execution_count": 222,
   "metadata": {},
   "outputs": [],
   "source": [
    "E = torch.DoubleTensor(np.zeros(1440))\n",
    "Weights = x\n",
    "y = Vec"
   ]
  },
  {
   "cell_type": "code",
   "execution_count": 208,
   "metadata": {},
   "outputs": [
    {
     "data": {
      "text/plain": [
       "tensor([1., 1., 1., 1., 1.])"
      ]
     },
     "execution_count": 208,
     "metadata": {},
     "output_type": "execute_result"
    }
   ],
   "source": [
    "x"
   ]
  },
  {
   "cell_type": "code",
   "execution_count": 209,
   "metadata": {},
   "outputs": [
    {
     "data": {
      "text/plain": [
       "tensor([[0.2140, 0.2160, 0.2160,  ..., 0.2940, 0.2980, 0.2980],\n",
       "        [0.2200, 0.2200, 0.2200,  ..., 0.2880, 0.2880, 0.2880],\n",
       "        [0.3200, 0.3200, 0.3180,  ..., 0.4200, 0.4160, 0.4140],\n",
       "        [0.4040, 0.4020, 0.3100,  ..., 0.2300, 0.2280, 0.2260],\n",
       "        [0.2900, 0.2900, 0.2900,  ..., 0.2120, 0.2100, 0.2120]],\n",
       "       dtype=torch.float64)"
      ]
     },
     "execution_count": 209,
     "metadata": {},
     "output_type": "execute_result"
    }
   ],
   "source": [
    "y"
   ]
  },
  {
   "cell_type": "code",
   "execution_count": 210,
   "metadata": {},
   "outputs": [],
   "source": [
    "for i in range(5):\n",
    "    E+=x[i]*y[i]"
   ]
  },
  {
   "cell_type": "code",
   "execution_count": 218,
   "metadata": {},
   "outputs": [
    {
     "data": {
      "text/plain": [
       "tensor(1.1236, dtype=torch.float64)"
      ]
     },
     "execution_count": 218,
     "metadata": {},
     "output_type": "execute_result"
    }
   ],
   "source": [
    "torch.mean(torch.abs((E - WinData[300*1440:(301)*1440])))"
   ]
  },
  {
   "cell_type": "code",
   "execution_count": 237,
   "metadata": {},
   "outputs": [
    {
     "data": {
      "text/plain": [
       "[tensor(1.1025, dtype=torch.float64),\n",
       " tensor(1.1734, dtype=torch.float64),\n",
       " tensor(1.1621, dtype=torch.float64),\n",
       " tensor(1.1103, dtype=torch.float64),\n",
       " tensor(1.1697, dtype=torch.float64)]"
      ]
     },
     "execution_count": 237,
     "metadata": {},
     "output_type": "execute_result"
    }
   ],
   "source": [
    "Error"
   ]
  },
  {
   "cell_type": "code",
   "execution_count": null,
   "metadata": {},
   "outputs": [],
   "source": []
  },
  {
   "cell_type": "code",
   "execution_count": null,
   "metadata": {},
   "outputs": [],
   "source": []
  },
  {
   "cell_type": "code",
   "execution_count": null,
   "metadata": {},
   "outputs": [],
   "source": []
  },
  {
   "cell_type": "code",
   "execution_count": null,
   "metadata": {},
   "outputs": [],
   "source": []
  },
  {
   "cell_type": "code",
   "execution_count": null,
   "metadata": {},
   "outputs": [],
   "source": []
  }
 ],
 "metadata": {
  "kernelspec": {
   "display_name": "Python 3",
   "language": "python",
   "name": "python3"
  },
  "language_info": {
   "codemirror_mode": {
    "name": "ipython",
    "version": 3
   },
   "file_extension": ".py",
   "mimetype": "text/x-python",
   "name": "python",
   "nbconvert_exporter": "python",
   "pygments_lexer": "ipython3",
   "version": "3.7.0"
  }
 },
 "nbformat": 4,
 "nbformat_minor": 2
}
